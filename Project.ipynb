{
 "cells": [
  {
   "cell_type": "code",
   "execution_count": 2,
   "metadata": {},
   "outputs": [],
   "source": [
    "import pandas as pd\n",
    "import geopandas as gpd\n",
    "import requests"
   ]
  },
  {
   "cell_type": "markdown",
   "metadata": {},
   "source": [
    "# Data Preprocessing"
   ]
  },
  {
   "cell_type": "markdown",
   "metadata": {},
   "source": [
    "### Read data"
   ]
  },
  {
   "cell_type": "code",
   "execution_count": 3,
   "metadata": {},
   "outputs": [],
   "source": [
    "token = \"vAtl2Z7zE587vSL1K0jPGUqgw\""
   ]
  },
  {
   "cell_type": "markdown",
   "metadata": {},
   "source": [
    "Download zipcode data"
   ]
  },
  {
   "cell_type": "code",
   "execution_count": 4,
   "metadata": {},
   "outputs": [
    {
     "data": {
      "text/html": [
       "<div>\n",
       "<style scoped>\n",
       "    .dataframe tbody tr th:only-of-type {\n",
       "        vertical-align: middle;\n",
       "    }\n",
       "\n",
       "    .dataframe tbody tr th {\n",
       "        vertical-align: top;\n",
       "    }\n",
       "\n",
       "    .dataframe thead th {\n",
       "        text-align: right;\n",
       "    }\n",
       "</style>\n",
       "<table border=\"1\" class=\"dataframe\">\n",
       "  <thead>\n",
       "    <tr style=\"text-align: right;\">\n",
       "      <th></th>\n",
       "      <th>ZIPCODE</th>\n",
       "      <th>BLDGZIP</th>\n",
       "      <th>PO_NAME</th>\n",
       "      <th>POPULATION</th>\n",
       "      <th>AREA</th>\n",
       "      <th>STATE</th>\n",
       "      <th>COUNTY</th>\n",
       "      <th>ST_FIPS</th>\n",
       "      <th>CTY_FIPS</th>\n",
       "      <th>URL</th>\n",
       "      <th>SHAPE_AREA</th>\n",
       "      <th>SHAPE_LEN</th>\n",
       "      <th>geometry</th>\n",
       "    </tr>\n",
       "  </thead>\n",
       "  <tbody>\n",
       "    <tr>\n",
       "      <th>0</th>\n",
       "      <td>11436</td>\n",
       "      <td>0</td>\n",
       "      <td>Jamaica</td>\n",
       "      <td>18681.0</td>\n",
       "      <td>2.269930e+07</td>\n",
       "      <td>NY</td>\n",
       "      <td>Queens</td>\n",
       "      <td>36</td>\n",
       "      <td>081</td>\n",
       "      <td>http://www.usps.com/</td>\n",
       "      <td>0.0</td>\n",
       "      <td>0.0</td>\n",
       "      <td>POLYGON ((1038098.252 188138.380, 1038141.936 ...</td>\n",
       "    </tr>\n",
       "    <tr>\n",
       "      <th>1</th>\n",
       "      <td>11213</td>\n",
       "      <td>0</td>\n",
       "      <td>Brooklyn</td>\n",
       "      <td>62426.0</td>\n",
       "      <td>2.963100e+07</td>\n",
       "      <td>NY</td>\n",
       "      <td>Kings</td>\n",
       "      <td>36</td>\n",
       "      <td>047</td>\n",
       "      <td>http://www.usps.com/</td>\n",
       "      <td>0.0</td>\n",
       "      <td>0.0</td>\n",
       "      <td>POLYGON ((1001613.713 186926.440, 1002314.243 ...</td>\n",
       "    </tr>\n",
       "    <tr>\n",
       "      <th>2</th>\n",
       "      <td>11212</td>\n",
       "      <td>0</td>\n",
       "      <td>Brooklyn</td>\n",
       "      <td>83866.0</td>\n",
       "      <td>4.197210e+07</td>\n",
       "      <td>NY</td>\n",
       "      <td>Kings</td>\n",
       "      <td>36</td>\n",
       "      <td>047</td>\n",
       "      <td>http://www.usps.com/</td>\n",
       "      <td>0.0</td>\n",
       "      <td>0.0</td>\n",
       "      <td>POLYGON ((1011174.276 183696.338, 1011373.584 ...</td>\n",
       "    </tr>\n",
       "    <tr>\n",
       "      <th>3</th>\n",
       "      <td>11225</td>\n",
       "      <td>0</td>\n",
       "      <td>Brooklyn</td>\n",
       "      <td>56527.0</td>\n",
       "      <td>2.369863e+07</td>\n",
       "      <td>NY</td>\n",
       "      <td>Kings</td>\n",
       "      <td>36</td>\n",
       "      <td>047</td>\n",
       "      <td>http://www.usps.com/</td>\n",
       "      <td>0.0</td>\n",
       "      <td>0.0</td>\n",
       "      <td>POLYGON ((995908.365 183617.613, 996522.848 18...</td>\n",
       "    </tr>\n",
       "    <tr>\n",
       "      <th>4</th>\n",
       "      <td>11218</td>\n",
       "      <td>0</td>\n",
       "      <td>Brooklyn</td>\n",
       "      <td>72280.0</td>\n",
       "      <td>3.686880e+07</td>\n",
       "      <td>NY</td>\n",
       "      <td>Kings</td>\n",
       "      <td>36</td>\n",
       "      <td>047</td>\n",
       "      <td>http://www.usps.com/</td>\n",
       "      <td>0.0</td>\n",
       "      <td>0.0</td>\n",
       "      <td>POLYGON ((991997.113 176307.496, 992042.798 17...</td>\n",
       "    </tr>\n",
       "    <tr>\n",
       "      <th>...</th>\n",
       "      <td>...</td>\n",
       "      <td>...</td>\n",
       "      <td>...</td>\n",
       "      <td>...</td>\n",
       "      <td>...</td>\n",
       "      <td>...</td>\n",
       "      <td>...</td>\n",
       "      <td>...</td>\n",
       "      <td>...</td>\n",
       "      <td>...</td>\n",
       "      <td>...</td>\n",
       "      <td>...</td>\n",
       "      <td>...</td>\n",
       "    </tr>\n",
       "    <tr>\n",
       "      <th>258</th>\n",
       "      <td>10310</td>\n",
       "      <td>0</td>\n",
       "      <td>Staten Island</td>\n",
       "      <td>25003.0</td>\n",
       "      <td>5.346328e+07</td>\n",
       "      <td>NY</td>\n",
       "      <td>Richmond</td>\n",
       "      <td>36</td>\n",
       "      <td>085</td>\n",
       "      <td>http://www.usps.com/</td>\n",
       "      <td>0.0</td>\n",
       "      <td>0.0</td>\n",
       "      <td>POLYGON ((950767.507 172848.969, 950787.510 17...</td>\n",
       "    </tr>\n",
       "    <tr>\n",
       "      <th>259</th>\n",
       "      <td>11693</td>\n",
       "      <td>0</td>\n",
       "      <td>Far Rockaway</td>\n",
       "      <td>11052.0</td>\n",
       "      <td>3.497516e+06</td>\n",
       "      <td>NY</td>\n",
       "      <td>Kings</td>\n",
       "      <td>36</td>\n",
       "      <td>047</td>\n",
       "      <td>http://www.usps.com/</td>\n",
       "      <td>0.0</td>\n",
       "      <td>0.0</td>\n",
       "      <td>POLYGON ((1028453.995 167153.410, 1027813.010 ...</td>\n",
       "    </tr>\n",
       "    <tr>\n",
       "      <th>260</th>\n",
       "      <td>11249</td>\n",
       "      <td>0</td>\n",
       "      <td>Brooklyn</td>\n",
       "      <td>28481.0</td>\n",
       "      <td>1.777221e+07</td>\n",
       "      <td>NY</td>\n",
       "      <td>Kings</td>\n",
       "      <td>36</td>\n",
       "      <td>047</td>\n",
       "      <td>http://www.usps.com/</td>\n",
       "      <td>0.0</td>\n",
       "      <td>0.0</td>\n",
       "      <td>POLYGON ((995877.318 203206.075, 995968.511 20...</td>\n",
       "    </tr>\n",
       "    <tr>\n",
       "      <th>261</th>\n",
       "      <td>10162</td>\n",
       "      <td>1</td>\n",
       "      <td>New York</td>\n",
       "      <td>0.0</td>\n",
       "      <td>2.103489e+04</td>\n",
       "      <td>NY</td>\n",
       "      <td>New York</td>\n",
       "      <td>36</td>\n",
       "      <td>061</td>\n",
       "      <td>http://www.usps.com/</td>\n",
       "      <td>0.0</td>\n",
       "      <td>0.0</td>\n",
       "      <td>POLYGON ((997731.761 219560.922, 997641.948 21...</td>\n",
       "    </tr>\n",
       "    <tr>\n",
       "      <th>262</th>\n",
       "      <td>10119</td>\n",
       "      <td>1</td>\n",
       "      <td>New York</td>\n",
       "      <td>0.0</td>\n",
       "      <td>1.263930e+05</td>\n",
       "      <td>NY</td>\n",
       "      <td>New York</td>\n",
       "      <td>36</td>\n",
       "      <td>061</td>\n",
       "      <td>http://www.usps.com/</td>\n",
       "      <td>0.0</td>\n",
       "      <td>0.0</td>\n",
       "      <td>POLYGON ((986038.661 213051.063, 986135.314 21...</td>\n",
       "    </tr>\n",
       "  </tbody>\n",
       "</table>\n",
       "<p>263 rows × 13 columns</p>\n",
       "</div>"
      ],
      "text/plain": [
       "    ZIPCODE BLDGZIP        PO_NAME  POPULATION          AREA STATE    COUNTY  \\\n",
       "0     11436       0        Jamaica     18681.0  2.269930e+07    NY    Queens   \n",
       "1     11213       0       Brooklyn     62426.0  2.963100e+07    NY     Kings   \n",
       "2     11212       0       Brooklyn     83866.0  4.197210e+07    NY     Kings   \n",
       "3     11225       0       Brooklyn     56527.0  2.369863e+07    NY     Kings   \n",
       "4     11218       0       Brooklyn     72280.0  3.686880e+07    NY     Kings   \n",
       "..      ...     ...            ...         ...           ...   ...       ...   \n",
       "258   10310       0  Staten Island     25003.0  5.346328e+07    NY  Richmond   \n",
       "259   11693       0   Far Rockaway     11052.0  3.497516e+06    NY     Kings   \n",
       "260   11249       0       Brooklyn     28481.0  1.777221e+07    NY     Kings   \n",
       "261   10162       1       New York         0.0  2.103489e+04    NY  New York   \n",
       "262   10119       1       New York         0.0  1.263930e+05    NY  New York   \n",
       "\n",
       "    ST_FIPS CTY_FIPS                   URL  SHAPE_AREA  SHAPE_LEN  \\\n",
       "0        36      081  http://www.usps.com/         0.0        0.0   \n",
       "1        36      047  http://www.usps.com/         0.0        0.0   \n",
       "2        36      047  http://www.usps.com/         0.0        0.0   \n",
       "3        36      047  http://www.usps.com/         0.0        0.0   \n",
       "4        36      047  http://www.usps.com/         0.0        0.0   \n",
       "..      ...      ...                   ...         ...        ...   \n",
       "258      36      085  http://www.usps.com/         0.0        0.0   \n",
       "259      36      047  http://www.usps.com/         0.0        0.0   \n",
       "260      36      047  http://www.usps.com/         0.0        0.0   \n",
       "261      36      061  http://www.usps.com/         0.0        0.0   \n",
       "262      36      061  http://www.usps.com/         0.0        0.0   \n",
       "\n",
       "                                              geometry  \n",
       "0    POLYGON ((1038098.252 188138.380, 1038141.936 ...  \n",
       "1    POLYGON ((1001613.713 186926.440, 1002314.243 ...  \n",
       "2    POLYGON ((1011174.276 183696.338, 1011373.584 ...  \n",
       "3    POLYGON ((995908.365 183617.613, 996522.848 18...  \n",
       "4    POLYGON ((991997.113 176307.496, 992042.798 17...  \n",
       "..                                                 ...  \n",
       "258  POLYGON ((950767.507 172848.969, 950787.510 17...  \n",
       "259  POLYGON ((1028453.995 167153.410, 1027813.010 ...  \n",
       "260  POLYGON ((995877.318 203206.075, 995968.511 20...  \n",
       "261  POLYGON ((997731.761 219560.922, 997641.948 21...  \n",
       "262  POLYGON ((986038.661 213051.063, 986135.314 21...  \n",
       "\n",
       "[263 rows x 13 columns]"
      ]
     },
     "execution_count": 4,
     "metadata": {},
     "output_type": "execute_result"
    }
   ],
   "source": [
    "raw_zipcode = gpd.read_file(\"nyc_zipcodes.shp\")\n",
    "raw_zipcode"
   ]
  },
  {
   "cell_type": "markdown",
   "metadata": {},
   "source": [
    "Download zillow data"
   ]
  },
  {
   "cell_type": "code",
   "execution_count": 5,
   "metadata": {},
   "outputs": [
    {
     "data": {
      "text/html": [
       "<div>\n",
       "<style scoped>\n",
       "    .dataframe tbody tr th:only-of-type {\n",
       "        vertical-align: middle;\n",
       "    }\n",
       "\n",
       "    .dataframe tbody tr th {\n",
       "        vertical-align: top;\n",
       "    }\n",
       "\n",
       "    .dataframe thead th {\n",
       "        text-align: right;\n",
       "    }\n",
       "</style>\n",
       "<table border=\"1\" class=\"dataframe\">\n",
       "  <thead>\n",
       "    <tr style=\"text-align: right;\">\n",
       "      <th></th>\n",
       "      <th>RegionID</th>\n",
       "      <th>SizeRank</th>\n",
       "      <th>RegionName</th>\n",
       "      <th>RegionType</th>\n",
       "      <th>StateName</th>\n",
       "      <th>State</th>\n",
       "      <th>City</th>\n",
       "      <th>Metro</th>\n",
       "      <th>CountyName</th>\n",
       "      <th>2015-01-31</th>\n",
       "      <th>...</th>\n",
       "      <th>2022-12-31</th>\n",
       "      <th>2023-01-31</th>\n",
       "      <th>2023-02-28</th>\n",
       "      <th>2023-03-31</th>\n",
       "      <th>2023-04-30</th>\n",
       "      <th>2023-05-31</th>\n",
       "      <th>2023-06-30</th>\n",
       "      <th>2023-07-31</th>\n",
       "      <th>2023-08-31</th>\n",
       "      <th>2023-09-30</th>\n",
       "    </tr>\n",
       "  </thead>\n",
       "  <tbody>\n",
       "    <tr>\n",
       "      <th>0</th>\n",
       "      <td>91982</td>\n",
       "      <td>1</td>\n",
       "      <td>77494</td>\n",
       "      <td>zip</td>\n",
       "      <td>TX</td>\n",
       "      <td>TX</td>\n",
       "      <td>Katy</td>\n",
       "      <td>Houston-The Woodlands-Sugar Land, TX</td>\n",
       "      <td>Fort Bend County</td>\n",
       "      <td>1606.206406</td>\n",
       "      <td>...</td>\n",
       "      <td>1994.653463</td>\n",
       "      <td>2027.438438</td>\n",
       "      <td>2042.237444</td>\n",
       "      <td>2049.325559</td>\n",
       "      <td>2016.531345</td>\n",
       "      <td>2023.438976</td>\n",
       "      <td>2031.558202</td>\n",
       "      <td>2046.144009</td>\n",
       "      <td>2053.486247</td>\n",
       "      <td>2055.771355</td>\n",
       "    </tr>\n",
       "    <tr>\n",
       "      <th>1</th>\n",
       "      <td>91940</td>\n",
       "      <td>3</td>\n",
       "      <td>77449</td>\n",
       "      <td>zip</td>\n",
       "      <td>TX</td>\n",
       "      <td>TX</td>\n",
       "      <td>Katy</td>\n",
       "      <td>Houston-The Woodlands-Sugar Land, TX</td>\n",
       "      <td>Harris County</td>\n",
       "      <td>1257.814660</td>\n",
       "      <td>...</td>\n",
       "      <td>1749.697900</td>\n",
       "      <td>1738.217986</td>\n",
       "      <td>1747.305840</td>\n",
       "      <td>1758.407295</td>\n",
       "      <td>1758.891075</td>\n",
       "      <td>1762.980879</td>\n",
       "      <td>1771.751591</td>\n",
       "      <td>1779.338402</td>\n",
       "      <td>1795.384582</td>\n",
       "      <td>1799.631140</td>\n",
       "    </tr>\n",
       "    <tr>\n",
       "      <th>2</th>\n",
       "      <td>91733</td>\n",
       "      <td>5</td>\n",
       "      <td>77084</td>\n",
       "      <td>zip</td>\n",
       "      <td>TX</td>\n",
       "      <td>TX</td>\n",
       "      <td>Houston</td>\n",
       "      <td>Houston-The Woodlands-Sugar Land, TX</td>\n",
       "      <td>Harris County</td>\n",
       "      <td>NaN</td>\n",
       "      <td>...</td>\n",
       "      <td>1701.217520</td>\n",
       "      <td>1706.900064</td>\n",
       "      <td>1706.067787</td>\n",
       "      <td>1723.722320</td>\n",
       "      <td>1735.484670</td>\n",
       "      <td>1752.132904</td>\n",
       "      <td>1756.990323</td>\n",
       "      <td>1754.429516</td>\n",
       "      <td>1757.602011</td>\n",
       "      <td>1755.031490</td>\n",
       "    </tr>\n",
       "    <tr>\n",
       "      <th>3</th>\n",
       "      <td>93144</td>\n",
       "      <td>6</td>\n",
       "      <td>79936</td>\n",
       "      <td>zip</td>\n",
       "      <td>TX</td>\n",
       "      <td>TX</td>\n",
       "      <td>El Paso</td>\n",
       "      <td>El Paso, TX</td>\n",
       "      <td>El Paso County</td>\n",
       "      <td>NaN</td>\n",
       "      <td>...</td>\n",
       "      <td>1419.480272</td>\n",
       "      <td>1458.063897</td>\n",
       "      <td>1471.726681</td>\n",
       "      <td>1466.734658</td>\n",
       "      <td>1456.175660</td>\n",
       "      <td>1462.478506</td>\n",
       "      <td>1466.267391</td>\n",
       "      <td>1490.237063</td>\n",
       "      <td>1488.180414</td>\n",
       "      <td>1494.366097</td>\n",
       "    </tr>\n",
       "    <tr>\n",
       "      <th>4</th>\n",
       "      <td>62093</td>\n",
       "      <td>7</td>\n",
       "      <td>11385</td>\n",
       "      <td>zip</td>\n",
       "      <td>NY</td>\n",
       "      <td>NY</td>\n",
       "      <td>New York</td>\n",
       "      <td>New York-Newark-Jersey City, NY-NJ-PA</td>\n",
       "      <td>Queens County</td>\n",
       "      <td>NaN</td>\n",
       "      <td>...</td>\n",
       "      <td>2935.808220</td>\n",
       "      <td>2895.699421</td>\n",
       "      <td>2873.209025</td>\n",
       "      <td>2881.906361</td>\n",
       "      <td>2913.546218</td>\n",
       "      <td>2963.964134</td>\n",
       "      <td>3005.735342</td>\n",
       "      <td>3034.413822</td>\n",
       "      <td>3064.476503</td>\n",
       "      <td>3079.585783</td>\n",
       "    </tr>\n",
       "  </tbody>\n",
       "</table>\n",
       "<p>5 rows × 114 columns</p>\n",
       "</div>"
      ],
      "text/plain": [
       "   RegionID  SizeRank  RegionName RegionType StateName State      City  \\\n",
       "0     91982         1       77494        zip        TX    TX      Katy   \n",
       "1     91940         3       77449        zip        TX    TX      Katy   \n",
       "2     91733         5       77084        zip        TX    TX   Houston   \n",
       "3     93144         6       79936        zip        TX    TX   El Paso   \n",
       "4     62093         7       11385        zip        NY    NY  New York   \n",
       "\n",
       "                                   Metro        CountyName   2015-01-31  ...  \\\n",
       "0   Houston-The Woodlands-Sugar Land, TX  Fort Bend County  1606.206406  ...   \n",
       "1   Houston-The Woodlands-Sugar Land, TX     Harris County  1257.814660  ...   \n",
       "2   Houston-The Woodlands-Sugar Land, TX     Harris County          NaN  ...   \n",
       "3                            El Paso, TX    El Paso County          NaN  ...   \n",
       "4  New York-Newark-Jersey City, NY-NJ-PA     Queens County          NaN  ...   \n",
       "\n",
       "    2022-12-31   2023-01-31   2023-02-28   2023-03-31   2023-04-30  \\\n",
       "0  1994.653463  2027.438438  2042.237444  2049.325559  2016.531345   \n",
       "1  1749.697900  1738.217986  1747.305840  1758.407295  1758.891075   \n",
       "2  1701.217520  1706.900064  1706.067787  1723.722320  1735.484670   \n",
       "3  1419.480272  1458.063897  1471.726681  1466.734658  1456.175660   \n",
       "4  2935.808220  2895.699421  2873.209025  2881.906361  2913.546218   \n",
       "\n",
       "    2023-05-31   2023-06-30   2023-07-31   2023-08-31   2023-09-30  \n",
       "0  2023.438976  2031.558202  2046.144009  2053.486247  2055.771355  \n",
       "1  1762.980879  1771.751591  1779.338402  1795.384582  1799.631140  \n",
       "2  1752.132904  1756.990323  1754.429516  1757.602011  1755.031490  \n",
       "3  1462.478506  1466.267391  1490.237063  1488.180414  1494.366097  \n",
       "4  2963.964134  3005.735342  3034.413822  3064.476503  3079.585783  \n",
       "\n",
       "[5 rows x 114 columns]"
      ]
     },
     "execution_count": 5,
     "metadata": {},
     "output_type": "execute_result"
    }
   ],
   "source": [
    "raw_zillow = pd.read_csv(\"zillow_rent_data.csv\")\n",
    "raw_zillow.head()"
   ]
  },
  {
   "cell_type": "markdown",
   "metadata": {},
   "source": [
    "Download 311 data with API"
   ]
  },
  {
   "cell_type": "code",
   "execution_count": 6,
   "metadata": {},
   "outputs": [
    {
     "data": {
      "text/html": [
       "<div>\n",
       "<style scoped>\n",
       "    .dataframe tbody tr th:only-of-type {\n",
       "        vertical-align: middle;\n",
       "    }\n",
       "\n",
       "    .dataframe tbody tr th {\n",
       "        vertical-align: top;\n",
       "    }\n",
       "\n",
       "    .dataframe thead th {\n",
       "        text-align: right;\n",
       "    }\n",
       "</style>\n",
       "<table border=\"1\" class=\"dataframe\">\n",
       "  <thead>\n",
       "    <tr style=\"text-align: right;\">\n",
       "      <th></th>\n",
       "      <th>unique_key</th>\n",
       "      <th>created_date</th>\n",
       "      <th>closed_date</th>\n",
       "      <th>agency</th>\n",
       "      <th>agency_name</th>\n",
       "      <th>complaint_type</th>\n",
       "      <th>descriptor</th>\n",
       "      <th>location_type</th>\n",
       "      <th>incident_zip</th>\n",
       "      <th>incident_address</th>\n",
       "      <th>...</th>\n",
       "      <th>location</th>\n",
       "      <th>bridge_highway_name</th>\n",
       "      <th>bridge_highway_direction</th>\n",
       "      <th>road_ramp</th>\n",
       "      <th>bridge_highway_segment</th>\n",
       "      <th>taxi_pick_up_location</th>\n",
       "      <th>facility_type</th>\n",
       "      <th>taxi_company_borough</th>\n",
       "      <th>due_date</th>\n",
       "      <th>vehicle_type</th>\n",
       "    </tr>\n",
       "  </thead>\n",
       "  <tbody>\n",
       "    <tr>\n",
       "      <th>0</th>\n",
       "      <td>58974915</td>\n",
       "      <td>2023-09-30T23:59:58.000</td>\n",
       "      <td>2023-10-01T00:16:46.000</td>\n",
       "      <td>NYPD</td>\n",
       "      <td>New York City Police Department</td>\n",
       "      <td>Noise - Street/Sidewalk</td>\n",
       "      <td>Loud Music/Party</td>\n",
       "      <td>Street/Sidewalk</td>\n",
       "      <td>11226</td>\n",
       "      <td>260 PARKSIDE AVENUE</td>\n",
       "      <td>...</td>\n",
       "      <td>{'latitude': '40.655672001198894', 'longitude'...</td>\n",
       "      <td>NaN</td>\n",
       "      <td>NaN</td>\n",
       "      <td>NaN</td>\n",
       "      <td>NaN</td>\n",
       "      <td>NaN</td>\n",
       "      <td>NaN</td>\n",
       "      <td>NaN</td>\n",
       "      <td>NaN</td>\n",
       "      <td>NaN</td>\n",
       "    </tr>\n",
       "    <tr>\n",
       "      <th>1</th>\n",
       "      <td>58972386</td>\n",
       "      <td>2023-09-30T23:59:38.000</td>\n",
       "      <td>2023-10-01T00:14:32.000</td>\n",
       "      <td>NYPD</td>\n",
       "      <td>New York City Police Department</td>\n",
       "      <td>Noise - Residential</td>\n",
       "      <td>Loud Music/Party</td>\n",
       "      <td>Residential Building/House</td>\n",
       "      <td>11361</td>\n",
       "      <td>200-18 34 AVENUE</td>\n",
       "      <td>...</td>\n",
       "      <td>{'latitude': '40.76675595839554', 'longitude':...</td>\n",
       "      <td>NaN</td>\n",
       "      <td>NaN</td>\n",
       "      <td>NaN</td>\n",
       "      <td>NaN</td>\n",
       "      <td>NaN</td>\n",
       "      <td>NaN</td>\n",
       "      <td>NaN</td>\n",
       "      <td>NaN</td>\n",
       "      <td>NaN</td>\n",
       "    </tr>\n",
       "    <tr>\n",
       "      <th>2</th>\n",
       "      <td>58973465</td>\n",
       "      <td>2023-09-30T23:59:35.000</td>\n",
       "      <td>2023-10-01T00:27:47.000</td>\n",
       "      <td>NYPD</td>\n",
       "      <td>New York City Police Department</td>\n",
       "      <td>Noise - Commercial</td>\n",
       "      <td>Loud Music/Party</td>\n",
       "      <td>Store/Commercial</td>\n",
       "      <td>10002</td>\n",
       "      <td>61 CLINTON STREET</td>\n",
       "      <td>...</td>\n",
       "      <td>{'latitude': '40.71949965458691', 'longitude':...</td>\n",
       "      <td>NaN</td>\n",
       "      <td>NaN</td>\n",
       "      <td>NaN</td>\n",
       "      <td>NaN</td>\n",
       "      <td>NaN</td>\n",
       "      <td>NaN</td>\n",
       "      <td>NaN</td>\n",
       "      <td>NaN</td>\n",
       "      <td>NaN</td>\n",
       "    </tr>\n",
       "    <tr>\n",
       "      <th>3</th>\n",
       "      <td>58974769</td>\n",
       "      <td>2023-09-30T23:59:34.000</td>\n",
       "      <td>2023-10-01T01:44:47.000</td>\n",
       "      <td>NYPD</td>\n",
       "      <td>New York City Police Department</td>\n",
       "      <td>Noise - Residential</td>\n",
       "      <td>Loud Music/Party</td>\n",
       "      <td>Residential Building/House</td>\n",
       "      <td>11435</td>\n",
       "      <td>111-42 147 STREET</td>\n",
       "      <td>...</td>\n",
       "      <td>{'latitude': '40.687499303408536', 'longitude'...</td>\n",
       "      <td>NaN</td>\n",
       "      <td>NaN</td>\n",
       "      <td>NaN</td>\n",
       "      <td>NaN</td>\n",
       "      <td>NaN</td>\n",
       "      <td>NaN</td>\n",
       "      <td>NaN</td>\n",
       "      <td>NaN</td>\n",
       "      <td>NaN</td>\n",
       "    </tr>\n",
       "    <tr>\n",
       "      <th>4</th>\n",
       "      <td>58968700</td>\n",
       "      <td>2023-09-30T23:59:28.000</td>\n",
       "      <td>2023-10-01T00:08:37.000</td>\n",
       "      <td>NYPD</td>\n",
       "      <td>New York City Police Department</td>\n",
       "      <td>Noise - Residential</td>\n",
       "      <td>Loud Music/Party</td>\n",
       "      <td>Residential Building/House</td>\n",
       "      <td>11226</td>\n",
       "      <td>30 LINDEN BOULEVARD</td>\n",
       "      <td>...</td>\n",
       "      <td>{'latitude': '40.65220215349917', 'longitude':...</td>\n",
       "      <td>NaN</td>\n",
       "      <td>NaN</td>\n",
       "      <td>NaN</td>\n",
       "      <td>NaN</td>\n",
       "      <td>NaN</td>\n",
       "      <td>NaN</td>\n",
       "      <td>NaN</td>\n",
       "      <td>NaN</td>\n",
       "      <td>NaN</td>\n",
       "    </tr>\n",
       "  </tbody>\n",
       "</table>\n",
       "<p>5 rows × 41 columns</p>\n",
       "</div>"
      ],
      "text/plain": [
       "  unique_key             created_date              closed_date agency  \\\n",
       "0   58974915  2023-09-30T23:59:58.000  2023-10-01T00:16:46.000   NYPD   \n",
       "1   58972386  2023-09-30T23:59:38.000  2023-10-01T00:14:32.000   NYPD   \n",
       "2   58973465  2023-09-30T23:59:35.000  2023-10-01T00:27:47.000   NYPD   \n",
       "3   58974769  2023-09-30T23:59:34.000  2023-10-01T01:44:47.000   NYPD   \n",
       "4   58968700  2023-09-30T23:59:28.000  2023-10-01T00:08:37.000   NYPD   \n",
       "\n",
       "                       agency_name           complaint_type        descriptor  \\\n",
       "0  New York City Police Department  Noise - Street/Sidewalk  Loud Music/Party   \n",
       "1  New York City Police Department      Noise - Residential  Loud Music/Party   \n",
       "2  New York City Police Department       Noise - Commercial  Loud Music/Party   \n",
       "3  New York City Police Department      Noise - Residential  Loud Music/Party   \n",
       "4  New York City Police Department      Noise - Residential  Loud Music/Party   \n",
       "\n",
       "                location_type incident_zip     incident_address  ...  \\\n",
       "0             Street/Sidewalk        11226  260 PARKSIDE AVENUE  ...   \n",
       "1  Residential Building/House        11361     200-18 34 AVENUE  ...   \n",
       "2            Store/Commercial        10002    61 CLINTON STREET  ...   \n",
       "3  Residential Building/House        11435    111-42 147 STREET  ...   \n",
       "4  Residential Building/House        11226  30 LINDEN BOULEVARD  ...   \n",
       "\n",
       "                                            location bridge_highway_name  \\\n",
       "0  {'latitude': '40.655672001198894', 'longitude'...                 NaN   \n",
       "1  {'latitude': '40.76675595839554', 'longitude':...                 NaN   \n",
       "2  {'latitude': '40.71949965458691', 'longitude':...                 NaN   \n",
       "3  {'latitude': '40.687499303408536', 'longitude'...                 NaN   \n",
       "4  {'latitude': '40.65220215349917', 'longitude':...                 NaN   \n",
       "\n",
       "  bridge_highway_direction road_ramp bridge_highway_segment  \\\n",
       "0                      NaN       NaN                    NaN   \n",
       "1                      NaN       NaN                    NaN   \n",
       "2                      NaN       NaN                    NaN   \n",
       "3                      NaN       NaN                    NaN   \n",
       "4                      NaN       NaN                    NaN   \n",
       "\n",
       "  taxi_pick_up_location facility_type taxi_company_borough due_date  \\\n",
       "0                   NaN           NaN                  NaN      NaN   \n",
       "1                   NaN           NaN                  NaN      NaN   \n",
       "2                   NaN           NaN                  NaN      NaN   \n",
       "3                   NaN           NaN                  NaN      NaN   \n",
       "4                   NaN           NaN                  NaN      NaN   \n",
       "\n",
       "  vehicle_type  \n",
       "0          NaN  \n",
       "1          NaN  \n",
       "2          NaN  \n",
       "3          NaN  \n",
       "4          NaN  \n",
       "\n",
       "[5 rows x 41 columns]"
      ]
     },
     "execution_count": 6,
     "metadata": {},
     "output_type": "execute_result"
    }
   ],
   "source": [
    "# API endpoint URL\n",
    "url_311 = 'https://data.cityofnewyork.us/resource/erm2-nwe9.json?$where=created_date between \\'2023-01-01T00:00:00\\' and \\'2023-09-30T23:59:59\\'&$limit=100000000'\n",
    "\n",
    "# Set up the headers with the API token\n",
    "headers = {'X-App-Token': token}\n",
    "\n",
    "# Make the API request\n",
    "response = requests.get(url_311, headers=headers)\n",
    "data = response.json()\n",
    "\n",
    "# Print the data\n",
    "raw_311= pd.DataFrame(data)\n",
    "raw_311.head()"
   ]
  },
  {
   "cell_type": "markdown",
   "metadata": {},
   "source": [
    "Download tree data with API"
   ]
  },
  {
   "cell_type": "code",
   "execution_count": 11,
   "metadata": {},
   "outputs": [
    {
     "data": {
      "text/html": [
       "<div>\n",
       "<style scoped>\n",
       "    .dataframe tbody tr th:only-of-type {\n",
       "        vertical-align: middle;\n",
       "    }\n",
       "\n",
       "    .dataframe tbody tr th {\n",
       "        vertical-align: top;\n",
       "    }\n",
       "\n",
       "    .dataframe thead th {\n",
       "        text-align: right;\n",
       "    }\n",
       "</style>\n",
       "<table border=\"1\" class=\"dataframe\">\n",
       "  <thead>\n",
       "    <tr style=\"text-align: right;\">\n",
       "      <th></th>\n",
       "      <th>created_at</th>\n",
       "      <th>tree_id</th>\n",
       "      <th>block_id</th>\n",
       "      <th>the_geom</th>\n",
       "      <th>tree_dbh</th>\n",
       "      <th>stump_diam</th>\n",
       "      <th>curb_loc</th>\n",
       "      <th>status</th>\n",
       "      <th>health</th>\n",
       "      <th>spc_latin</th>\n",
       "      <th>...</th>\n",
       "      <th>st_assem</th>\n",
       "      <th>st_senate</th>\n",
       "      <th>nta</th>\n",
       "      <th>nta_name</th>\n",
       "      <th>boro_ct</th>\n",
       "      <th>state</th>\n",
       "      <th>latitude</th>\n",
       "      <th>longitude</th>\n",
       "      <th>x_sp</th>\n",
       "      <th>y_sp</th>\n",
       "    </tr>\n",
       "  </thead>\n",
       "  <tbody>\n",
       "    <tr>\n",
       "      <th>0</th>\n",
       "      <td>08/27/2015</td>\n",
       "      <td>180683</td>\n",
       "      <td>348711</td>\n",
       "      <td>{'type': 'Point', 'coordinates': [-73.84421521...</td>\n",
       "      <td>3</td>\n",
       "      <td>0</td>\n",
       "      <td>OnCurb</td>\n",
       "      <td>Alive</td>\n",
       "      <td>Fair</td>\n",
       "      <td>Acer rubrum</td>\n",
       "      <td>...</td>\n",
       "      <td>28</td>\n",
       "      <td>16</td>\n",
       "      <td>QN17</td>\n",
       "      <td>Forest Hills</td>\n",
       "      <td>4073900</td>\n",
       "      <td>New York</td>\n",
       "      <td>40.72309177</td>\n",
       "      <td>-73.84421522</td>\n",
       "      <td>1027431.14821</td>\n",
       "      <td>202756.768749</td>\n",
       "    </tr>\n",
       "    <tr>\n",
       "      <th>1</th>\n",
       "      <td>09/03/2015</td>\n",
       "      <td>200540</td>\n",
       "      <td>315986</td>\n",
       "      <td>{'type': 'Point', 'coordinates': [-73.81867945...</td>\n",
       "      <td>21</td>\n",
       "      <td>0</td>\n",
       "      <td>OnCurb</td>\n",
       "      <td>Alive</td>\n",
       "      <td>Fair</td>\n",
       "      <td>Quercus palustris</td>\n",
       "      <td>...</td>\n",
       "      <td>27</td>\n",
       "      <td>11</td>\n",
       "      <td>QN49</td>\n",
       "      <td>Whitestone</td>\n",
       "      <td>4097300</td>\n",
       "      <td>New York</td>\n",
       "      <td>40.79411067</td>\n",
       "      <td>-73.81867946</td>\n",
       "      <td>1034455.70109</td>\n",
       "      <td>228644.837379</td>\n",
       "    </tr>\n",
       "    <tr>\n",
       "      <th>2</th>\n",
       "      <td>09/05/2015</td>\n",
       "      <td>204026</td>\n",
       "      <td>218365</td>\n",
       "      <td>{'type': 'Point', 'coordinates': [-73.93660770...</td>\n",
       "      <td>3</td>\n",
       "      <td>0</td>\n",
       "      <td>OnCurb</td>\n",
       "      <td>Alive</td>\n",
       "      <td>Good</td>\n",
       "      <td>Gleditsia triacanthos var. inermis</td>\n",
       "      <td>...</td>\n",
       "      <td>50</td>\n",
       "      <td>18</td>\n",
       "      <td>BK90</td>\n",
       "      <td>East Williamsburg</td>\n",
       "      <td>3044900</td>\n",
       "      <td>New York</td>\n",
       "      <td>40.71758074</td>\n",
       "      <td>-73.9366077</td>\n",
       "      <td>1001822.83131</td>\n",
       "      <td>200716.891267</td>\n",
       "    </tr>\n",
       "    <tr>\n",
       "      <th>3</th>\n",
       "      <td>09/05/2015</td>\n",
       "      <td>204337</td>\n",
       "      <td>217969</td>\n",
       "      <td>{'type': 'Point', 'coordinates': [-73.93445615...</td>\n",
       "      <td>10</td>\n",
       "      <td>0</td>\n",
       "      <td>OnCurb</td>\n",
       "      <td>Alive</td>\n",
       "      <td>Good</td>\n",
       "      <td>Gleditsia triacanthos var. inermis</td>\n",
       "      <td>...</td>\n",
       "      <td>53</td>\n",
       "      <td>18</td>\n",
       "      <td>BK90</td>\n",
       "      <td>East Williamsburg</td>\n",
       "      <td>3044900</td>\n",
       "      <td>New York</td>\n",
       "      <td>40.71353749</td>\n",
       "      <td>-73.93445616</td>\n",
       "      <td>1002420.35833</td>\n",
       "      <td>199244.253136</td>\n",
       "    </tr>\n",
       "    <tr>\n",
       "      <th>4</th>\n",
       "      <td>08/30/2015</td>\n",
       "      <td>189565</td>\n",
       "      <td>223043</td>\n",
       "      <td>{'type': 'Point', 'coordinates': [-73.97597938...</td>\n",
       "      <td>21</td>\n",
       "      <td>0</td>\n",
       "      <td>OnCurb</td>\n",
       "      <td>Alive</td>\n",
       "      <td>Good</td>\n",
       "      <td>Tilia americana</td>\n",
       "      <td>...</td>\n",
       "      <td>44</td>\n",
       "      <td>21</td>\n",
       "      <td>BK37</td>\n",
       "      <td>Park Slope-Gowanus</td>\n",
       "      <td>3016500</td>\n",
       "      <td>New York</td>\n",
       "      <td>40.66677776</td>\n",
       "      <td>-73.97597938</td>\n",
       "      <td>990913.775046</td>\n",
       "      <td>182202.425999</td>\n",
       "    </tr>\n",
       "  </tbody>\n",
       "</table>\n",
       "<p>5 rows × 42 columns</p>\n",
       "</div>"
      ],
      "text/plain": [
       "   created_at tree_id block_id  \\\n",
       "0  08/27/2015  180683   348711   \n",
       "1  09/03/2015  200540   315986   \n",
       "2  09/05/2015  204026   218365   \n",
       "3  09/05/2015  204337   217969   \n",
       "4  08/30/2015  189565   223043   \n",
       "\n",
       "                                            the_geom tree_dbh stump_diam  \\\n",
       "0  {'type': 'Point', 'coordinates': [-73.84421521...        3          0   \n",
       "1  {'type': 'Point', 'coordinates': [-73.81867945...       21          0   \n",
       "2  {'type': 'Point', 'coordinates': [-73.93660770...        3          0   \n",
       "3  {'type': 'Point', 'coordinates': [-73.93445615...       10          0   \n",
       "4  {'type': 'Point', 'coordinates': [-73.97597938...       21          0   \n",
       "\n",
       "  curb_loc status health                           spc_latin  ... st_assem  \\\n",
       "0   OnCurb  Alive   Fair                         Acer rubrum  ...       28   \n",
       "1   OnCurb  Alive   Fair                   Quercus palustris  ...       27   \n",
       "2   OnCurb  Alive   Good  Gleditsia triacanthos var. inermis  ...       50   \n",
       "3   OnCurb  Alive   Good  Gleditsia triacanthos var. inermis  ...       53   \n",
       "4   OnCurb  Alive   Good                     Tilia americana  ...       44   \n",
       "\n",
       "  st_senate   nta            nta_name  boro_ct     state     latitude  \\\n",
       "0        16  QN17        Forest Hills  4073900  New York  40.72309177   \n",
       "1        11  QN49          Whitestone  4097300  New York  40.79411067   \n",
       "2        18  BK90   East Williamsburg  3044900  New York  40.71758074   \n",
       "3        18  BK90   East Williamsburg  3044900  New York  40.71353749   \n",
       "4        21  BK37  Park Slope-Gowanus  3016500  New York  40.66677776   \n",
       "\n",
       "      longitude           x_sp           y_sp  \n",
       "0  -73.84421522  1027431.14821  202756.768749  \n",
       "1  -73.81867946  1034455.70109  228644.837379  \n",
       "2   -73.9366077  1001822.83131  200716.891267  \n",
       "3  -73.93445616  1002420.35833  199244.253136  \n",
       "4  -73.97597938  990913.775046  182202.425999  \n",
       "\n",
       "[5 rows x 42 columns]"
      ]
     },
     "execution_count": 11,
     "metadata": {},
     "output_type": "execute_result"
    }
   ],
   "source": [
    "# API endpoint URL\n",
    "url_tree = 'https://data.cityofnewyork.us/resource/5rq2-4hqu.json?$limit=10000000000'\n",
    "\n",
    "# Set up the headers with the API token\n",
    "headers = {'X-App-Token': token}\n",
    "\n",
    "# Make the API request\n",
    "response = requests.get(url_tree, headers=headers)\n",
    "data = response.json()\n",
    "\n",
    "# Print the data\n",
    "raw_tree = pd.DataFrame(data)\n",
    "raw_tree.head()"
   ]
  },
  {
   "cell_type": "markdown",
   "metadata": {},
   "source": [
    "### Removing unnecessary columns"
   ]
  },
  {
   "cell_type": "code",
   "execution_count": 12,
   "metadata": {},
   "outputs": [
    {
     "data": {
      "text/html": [
       "<div>\n",
       "<style scoped>\n",
       "    .dataframe tbody tr th:only-of-type {\n",
       "        vertical-align: middle;\n",
       "    }\n",
       "\n",
       "    .dataframe tbody tr th {\n",
       "        vertical-align: top;\n",
       "    }\n",
       "\n",
       "    .dataframe thead th {\n",
       "        text-align: right;\n",
       "    }\n",
       "</style>\n",
       "<table border=\"1\" class=\"dataframe\">\n",
       "  <thead>\n",
       "    <tr style=\"text-align: right;\">\n",
       "      <th></th>\n",
       "      <th>ZIPCODE</th>\n",
       "      <th>geometry</th>\n",
       "    </tr>\n",
       "  </thead>\n",
       "  <tbody>\n",
       "    <tr>\n",
       "      <th>0</th>\n",
       "      <td>11436</td>\n",
       "      <td>POLYGON ((1038098.252 188138.380, 1038141.936 ...</td>\n",
       "    </tr>\n",
       "    <tr>\n",
       "      <th>1</th>\n",
       "      <td>11213</td>\n",
       "      <td>POLYGON ((1001613.713 186926.440, 1002314.243 ...</td>\n",
       "    </tr>\n",
       "    <tr>\n",
       "      <th>2</th>\n",
       "      <td>11212</td>\n",
       "      <td>POLYGON ((1011174.276 183696.338, 1011373.584 ...</td>\n",
       "    </tr>\n",
       "    <tr>\n",
       "      <th>3</th>\n",
       "      <td>11225</td>\n",
       "      <td>POLYGON ((995908.365 183617.613, 996522.848 18...</td>\n",
       "    </tr>\n",
       "    <tr>\n",
       "      <th>4</th>\n",
       "      <td>11218</td>\n",
       "      <td>POLYGON ((991997.113 176307.496, 992042.798 17...</td>\n",
       "    </tr>\n",
       "  </tbody>\n",
       "</table>\n",
       "</div>"
      ],
      "text/plain": [
       "  ZIPCODE                                           geometry\n",
       "0   11436  POLYGON ((1038098.252 188138.380, 1038141.936 ...\n",
       "1   11213  POLYGON ((1001613.713 186926.440, 1002314.243 ...\n",
       "2   11212  POLYGON ((1011174.276 183696.338, 1011373.584 ...\n",
       "3   11225  POLYGON ((995908.365 183617.613, 996522.848 18...\n",
       "4   11218  POLYGON ((991997.113 176307.496, 992042.798 17..."
      ]
     },
     "execution_count": 12,
     "metadata": {},
     "output_type": "execute_result"
    }
   ],
   "source": [
    "columns_to_drop = raw_zipcode.columns[[1, 2, 3, 4, 5, 6, 7, 8, 9, 10, 11]]\n",
    "gdf_zipcode_1 = raw_zipcode.drop(columns=columns_to_drop)\n",
    "gdf_zipcode_1.head()"
   ]
  },
  {
   "cell_type": "code",
   "execution_count": 13,
   "metadata": {},
   "outputs": [
    {
     "data": {
      "text/html": [
       "<div>\n",
       "<style scoped>\n",
       "    .dataframe tbody tr th:only-of-type {\n",
       "        vertical-align: middle;\n",
       "    }\n",
       "\n",
       "    .dataframe tbody tr th {\n",
       "        vertical-align: top;\n",
       "    }\n",
       "\n",
       "    .dataframe thead th {\n",
       "        text-align: right;\n",
       "    }\n",
       "</style>\n",
       "<table border=\"1\" class=\"dataframe\">\n",
       "  <thead>\n",
       "    <tr style=\"text-align: right;\">\n",
       "      <th></th>\n",
       "      <th>RegionName</th>\n",
       "      <th>City</th>\n",
       "      <th>2015-01-31</th>\n",
       "      <th>2015-02-28</th>\n",
       "      <th>2015-03-31</th>\n",
       "      <th>2015-04-30</th>\n",
       "      <th>2015-05-31</th>\n",
       "      <th>2015-06-30</th>\n",
       "      <th>2015-07-31</th>\n",
       "      <th>2015-08-31</th>\n",
       "      <th>...</th>\n",
       "      <th>2022-12-31</th>\n",
       "      <th>2023-01-31</th>\n",
       "      <th>2023-02-28</th>\n",
       "      <th>2023-03-31</th>\n",
       "      <th>2023-04-30</th>\n",
       "      <th>2023-05-31</th>\n",
       "      <th>2023-06-30</th>\n",
       "      <th>2023-07-31</th>\n",
       "      <th>2023-08-31</th>\n",
       "      <th>2023-09-30</th>\n",
       "    </tr>\n",
       "  </thead>\n",
       "  <tbody>\n",
       "    <tr>\n",
       "      <th>0</th>\n",
       "      <td>77494</td>\n",
       "      <td>Katy</td>\n",
       "      <td>1606.206406</td>\n",
       "      <td>1612.779844</td>\n",
       "      <td>1622.201575</td>\n",
       "      <td>1630.392427</td>\n",
       "      <td>1632.411500</td>\n",
       "      <td>1636.206864</td>\n",
       "      <td>1644.894632</td>\n",
       "      <td>1643.390762</td>\n",
       "      <td>...</td>\n",
       "      <td>1994.653463</td>\n",
       "      <td>2027.438438</td>\n",
       "      <td>2042.237444</td>\n",
       "      <td>2049.325559</td>\n",
       "      <td>2016.531345</td>\n",
       "      <td>2023.438976</td>\n",
       "      <td>2031.558202</td>\n",
       "      <td>2046.144009</td>\n",
       "      <td>2053.486247</td>\n",
       "      <td>2055.771355</td>\n",
       "    </tr>\n",
       "    <tr>\n",
       "      <th>1</th>\n",
       "      <td>77449</td>\n",
       "      <td>Katy</td>\n",
       "      <td>1257.814660</td>\n",
       "      <td>1255.268025</td>\n",
       "      <td>1262.170452</td>\n",
       "      <td>1274.955754</td>\n",
       "      <td>1285.526052</td>\n",
       "      <td>1295.665673</td>\n",
       "      <td>1296.650395</td>\n",
       "      <td>1300.868081</td>\n",
       "      <td>...</td>\n",
       "      <td>1749.697900</td>\n",
       "      <td>1738.217986</td>\n",
       "      <td>1747.305840</td>\n",
       "      <td>1758.407295</td>\n",
       "      <td>1758.891075</td>\n",
       "      <td>1762.980879</td>\n",
       "      <td>1771.751591</td>\n",
       "      <td>1779.338402</td>\n",
       "      <td>1795.384582</td>\n",
       "      <td>1799.631140</td>\n",
       "    </tr>\n",
       "    <tr>\n",
       "      <th>2</th>\n",
       "      <td>77084</td>\n",
       "      <td>Houston</td>\n",
       "      <td>NaN</td>\n",
       "      <td>NaN</td>\n",
       "      <td>NaN</td>\n",
       "      <td>NaN</td>\n",
       "      <td>NaN</td>\n",
       "      <td>NaN</td>\n",
       "      <td>NaN</td>\n",
       "      <td>NaN</td>\n",
       "      <td>...</td>\n",
       "      <td>1701.217520</td>\n",
       "      <td>1706.900064</td>\n",
       "      <td>1706.067787</td>\n",
       "      <td>1723.722320</td>\n",
       "      <td>1735.484670</td>\n",
       "      <td>1752.132904</td>\n",
       "      <td>1756.990323</td>\n",
       "      <td>1754.429516</td>\n",
       "      <td>1757.602011</td>\n",
       "      <td>1755.031490</td>\n",
       "    </tr>\n",
       "    <tr>\n",
       "      <th>3</th>\n",
       "      <td>79936</td>\n",
       "      <td>El Paso</td>\n",
       "      <td>NaN</td>\n",
       "      <td>NaN</td>\n",
       "      <td>NaN</td>\n",
       "      <td>NaN</td>\n",
       "      <td>NaN</td>\n",
       "      <td>NaN</td>\n",
       "      <td>NaN</td>\n",
       "      <td>NaN</td>\n",
       "      <td>...</td>\n",
       "      <td>1419.480272</td>\n",
       "      <td>1458.063897</td>\n",
       "      <td>1471.726681</td>\n",
       "      <td>1466.734658</td>\n",
       "      <td>1456.175660</td>\n",
       "      <td>1462.478506</td>\n",
       "      <td>1466.267391</td>\n",
       "      <td>1490.237063</td>\n",
       "      <td>1488.180414</td>\n",
       "      <td>1494.366097</td>\n",
       "    </tr>\n",
       "    <tr>\n",
       "      <th>4</th>\n",
       "      <td>11385</td>\n",
       "      <td>New York</td>\n",
       "      <td>NaN</td>\n",
       "      <td>2087.527084</td>\n",
       "      <td>NaN</td>\n",
       "      <td>2149.924252</td>\n",
       "      <td>2166.263698</td>\n",
       "      <td>2148.992886</td>\n",
       "      <td>2190.098591</td>\n",
       "      <td>2264.966715</td>\n",
       "      <td>...</td>\n",
       "      <td>2935.808220</td>\n",
       "      <td>2895.699421</td>\n",
       "      <td>2873.209025</td>\n",
       "      <td>2881.906361</td>\n",
       "      <td>2913.546218</td>\n",
       "      <td>2963.964134</td>\n",
       "      <td>3005.735342</td>\n",
       "      <td>3034.413822</td>\n",
       "      <td>3064.476503</td>\n",
       "      <td>3079.585783</td>\n",
       "    </tr>\n",
       "  </tbody>\n",
       "</table>\n",
       "<p>5 rows × 107 columns</p>\n",
       "</div>"
      ],
      "text/plain": [
       "   RegionName      City   2015-01-31   2015-02-28   2015-03-31   2015-04-30  \\\n",
       "0       77494      Katy  1606.206406  1612.779844  1622.201575  1630.392427   \n",
       "1       77449      Katy  1257.814660  1255.268025  1262.170452  1274.955754   \n",
       "2       77084   Houston          NaN          NaN          NaN          NaN   \n",
       "3       79936   El Paso          NaN          NaN          NaN          NaN   \n",
       "4       11385  New York          NaN  2087.527084          NaN  2149.924252   \n",
       "\n",
       "    2015-05-31   2015-06-30   2015-07-31   2015-08-31  ...   2022-12-31  \\\n",
       "0  1632.411500  1636.206864  1644.894632  1643.390762  ...  1994.653463   \n",
       "1  1285.526052  1295.665673  1296.650395  1300.868081  ...  1749.697900   \n",
       "2          NaN          NaN          NaN          NaN  ...  1701.217520   \n",
       "3          NaN          NaN          NaN          NaN  ...  1419.480272   \n",
       "4  2166.263698  2148.992886  2190.098591  2264.966715  ...  2935.808220   \n",
       "\n",
       "    2023-01-31   2023-02-28   2023-03-31   2023-04-30   2023-05-31  \\\n",
       "0  2027.438438  2042.237444  2049.325559  2016.531345  2023.438976   \n",
       "1  1738.217986  1747.305840  1758.407295  1758.891075  1762.980879   \n",
       "2  1706.900064  1706.067787  1723.722320  1735.484670  1752.132904   \n",
       "3  1458.063897  1471.726681  1466.734658  1456.175660  1462.478506   \n",
       "4  2895.699421  2873.209025  2881.906361  2913.546218  2963.964134   \n",
       "\n",
       "    2023-06-30   2023-07-31   2023-08-31   2023-09-30  \n",
       "0  2031.558202  2046.144009  2053.486247  2055.771355  \n",
       "1  1771.751591  1779.338402  1795.384582  1799.631140  \n",
       "2  1756.990323  1754.429516  1757.602011  1755.031490  \n",
       "3  1466.267391  1490.237063  1488.180414  1494.366097  \n",
       "4  3005.735342  3034.413822  3064.476503  3079.585783  \n",
       "\n",
       "[5 rows x 107 columns]"
      ]
     },
     "execution_count": 13,
     "metadata": {},
     "output_type": "execute_result"
    }
   ],
   "source": [
    "df_zillow_1 = pd.concat([raw_zillow.iloc[:, [2, 6]], raw_zillow.iloc[:, 9:]], axis=1)\n",
    "df_zillow_1.head()"
   ]
  },
  {
   "cell_type": "code",
   "execution_count": 14,
   "metadata": {},
   "outputs": [
    {
     "data": {
      "text/html": [
       "<div>\n",
       "<style scoped>\n",
       "    .dataframe tbody tr th:only-of-type {\n",
       "        vertical-align: middle;\n",
       "    }\n",
       "\n",
       "    .dataframe tbody tr th {\n",
       "        vertical-align: top;\n",
       "    }\n",
       "\n",
       "    .dataframe thead th {\n",
       "        text-align: right;\n",
       "    }\n",
       "</style>\n",
       "<table border=\"1\" class=\"dataframe\">\n",
       "  <thead>\n",
       "    <tr style=\"text-align: right;\">\n",
       "      <th></th>\n",
       "      <th>created_date</th>\n",
       "      <th>complaint_type</th>\n",
       "      <th>incident_zip</th>\n",
       "      <th>latitude</th>\n",
       "      <th>longitude</th>\n",
       "    </tr>\n",
       "  </thead>\n",
       "  <tbody>\n",
       "    <tr>\n",
       "      <th>0</th>\n",
       "      <td>2023-09-30T23:59:58.000</td>\n",
       "      <td>Noise - Street/Sidewalk</td>\n",
       "      <td>11226</td>\n",
       "      <td>40.655672001198894</td>\n",
       "      <td>-73.95917686020623</td>\n",
       "    </tr>\n",
       "    <tr>\n",
       "      <th>1</th>\n",
       "      <td>2023-09-30T23:59:38.000</td>\n",
       "      <td>Noise - Residential</td>\n",
       "      <td>11361</td>\n",
       "      <td>40.76675595839554</td>\n",
       "      <td>-73.78751847563191</td>\n",
       "    </tr>\n",
       "    <tr>\n",
       "      <th>2</th>\n",
       "      <td>2023-09-30T23:59:35.000</td>\n",
       "      <td>Noise - Commercial</td>\n",
       "      <td>10002</td>\n",
       "      <td>40.71949965458691</td>\n",
       "      <td>-73.98486650733275</td>\n",
       "    </tr>\n",
       "    <tr>\n",
       "      <th>3</th>\n",
       "      <td>2023-09-30T23:59:34.000</td>\n",
       "      <td>Noise - Residential</td>\n",
       "      <td>11435</td>\n",
       "      <td>40.687499303408536</td>\n",
       "      <td>-73.7972903094197</td>\n",
       "    </tr>\n",
       "    <tr>\n",
       "      <th>4</th>\n",
       "      <td>2023-09-30T23:59:28.000</td>\n",
       "      <td>Noise - Residential</td>\n",
       "      <td>11226</td>\n",
       "      <td>40.65220215349917</td>\n",
       "      <td>-73.9579464603267</td>\n",
       "    </tr>\n",
       "  </tbody>\n",
       "</table>\n",
       "</div>"
      ],
      "text/plain": [
       "              created_date           complaint_type incident_zip  \\\n",
       "0  2023-09-30T23:59:58.000  Noise - Street/Sidewalk        11226   \n",
       "1  2023-09-30T23:59:38.000      Noise - Residential        11361   \n",
       "2  2023-09-30T23:59:35.000       Noise - Commercial        10002   \n",
       "3  2023-09-30T23:59:34.000      Noise - Residential        11435   \n",
       "4  2023-09-30T23:59:28.000      Noise - Residential        11226   \n",
       "\n",
       "             latitude           longitude  \n",
       "0  40.655672001198894  -73.95917686020623  \n",
       "1   40.76675595839554  -73.78751847563191  \n",
       "2   40.71949965458691  -73.98486650733275  \n",
       "3  40.687499303408536   -73.7972903094197  \n",
       "4   40.65220215349917   -73.9579464603267  "
      ]
     },
     "execution_count": 14,
     "metadata": {},
     "output_type": "execute_result"
    }
   ],
   "source": [
    "df_311_1 = raw_311.loc[:, ['created_date', 'complaint_type', 'incident_zip', \"latitude\", \"longitude\"]]\n",
    "df_311_1.head()"
   ]
  },
  {
   "cell_type": "code",
   "execution_count": 15,
   "metadata": {},
   "outputs": [
    {
     "data": {
      "text/html": [
       "<div>\n",
       "<style scoped>\n",
       "    .dataframe tbody tr th:only-of-type {\n",
       "        vertical-align: middle;\n",
       "    }\n",
       "\n",
       "    .dataframe tbody tr th {\n",
       "        vertical-align: top;\n",
       "    }\n",
       "\n",
       "    .dataframe thead th {\n",
       "        text-align: right;\n",
       "    }\n",
       "</style>\n",
       "<table border=\"1\" class=\"dataframe\">\n",
       "  <thead>\n",
       "    <tr style=\"text-align: right;\">\n",
       "      <th></th>\n",
       "      <th>zipcode</th>\n",
       "      <th>tree_id</th>\n",
       "      <th>latitude</th>\n",
       "      <th>longitude</th>\n",
       "      <th>x_sp</th>\n",
       "      <th>y_sp</th>\n",
       "      <th>status</th>\n",
       "      <th>health</th>\n",
       "      <th>spc_common</th>\n",
       "    </tr>\n",
       "  </thead>\n",
       "  <tbody>\n",
       "    <tr>\n",
       "      <th>0</th>\n",
       "      <td>11375</td>\n",
       "      <td>180683</td>\n",
       "      <td>40.72309177</td>\n",
       "      <td>-73.84421522</td>\n",
       "      <td>1027431.14821</td>\n",
       "      <td>202756.768749</td>\n",
       "      <td>Alive</td>\n",
       "      <td>Fair</td>\n",
       "      <td>red maple</td>\n",
       "    </tr>\n",
       "    <tr>\n",
       "      <th>1</th>\n",
       "      <td>11357</td>\n",
       "      <td>200540</td>\n",
       "      <td>40.79411067</td>\n",
       "      <td>-73.81867946</td>\n",
       "      <td>1034455.70109</td>\n",
       "      <td>228644.837379</td>\n",
       "      <td>Alive</td>\n",
       "      <td>Fair</td>\n",
       "      <td>pin oak</td>\n",
       "    </tr>\n",
       "    <tr>\n",
       "      <th>2</th>\n",
       "      <td>11211</td>\n",
       "      <td>204026</td>\n",
       "      <td>40.71758074</td>\n",
       "      <td>-73.9366077</td>\n",
       "      <td>1001822.83131</td>\n",
       "      <td>200716.891267</td>\n",
       "      <td>Alive</td>\n",
       "      <td>Good</td>\n",
       "      <td>honeylocust</td>\n",
       "    </tr>\n",
       "    <tr>\n",
       "      <th>3</th>\n",
       "      <td>11211</td>\n",
       "      <td>204337</td>\n",
       "      <td>40.71353749</td>\n",
       "      <td>-73.93445616</td>\n",
       "      <td>1002420.35833</td>\n",
       "      <td>199244.253136</td>\n",
       "      <td>Alive</td>\n",
       "      <td>Good</td>\n",
       "      <td>honeylocust</td>\n",
       "    </tr>\n",
       "    <tr>\n",
       "      <th>4</th>\n",
       "      <td>11215</td>\n",
       "      <td>189565</td>\n",
       "      <td>40.66677776</td>\n",
       "      <td>-73.97597938</td>\n",
       "      <td>990913.775046</td>\n",
       "      <td>182202.425999</td>\n",
       "      <td>Alive</td>\n",
       "      <td>Good</td>\n",
       "      <td>American linden</td>\n",
       "    </tr>\n",
       "  </tbody>\n",
       "</table>\n",
       "</div>"
      ],
      "text/plain": [
       "  zipcode tree_id     latitude     longitude           x_sp           y_sp  \\\n",
       "0   11375  180683  40.72309177  -73.84421522  1027431.14821  202756.768749   \n",
       "1   11357  200540  40.79411067  -73.81867946  1034455.70109  228644.837379   \n",
       "2   11211  204026  40.71758074   -73.9366077  1001822.83131  200716.891267   \n",
       "3   11211  204337  40.71353749  -73.93445616  1002420.35833  199244.253136   \n",
       "4   11215  189565  40.66677776  -73.97597938  990913.775046  182202.425999   \n",
       "\n",
       "  status health       spc_common  \n",
       "0  Alive   Fair        red maple  \n",
       "1  Alive   Fair          pin oak  \n",
       "2  Alive   Good      honeylocust  \n",
       "3  Alive   Good      honeylocust  \n",
       "4  Alive   Good  American linden  "
      ]
     },
     "execution_count": 15,
     "metadata": {},
     "output_type": "execute_result"
    }
   ],
   "source": [
    "df_tree_1 = raw_tree.loc[:, [\"zipcode\", \"tree_id\", \"latitude\", \"longitude\", \"x_sp\", \"y_sp\", \"status\", \"health\", \"spc_common\"]]\n",
    "df_tree_1.head()"
   ]
  },
  {
   "cell_type": "markdown",
   "metadata": {},
   "source": [
    "### Remove invalid data points "
   ]
  },
  {
   "cell_type": "markdown",
   "metadata": {},
   "source": [
    "Drop duplication"
   ]
  },
  {
   "cell_type": "code",
   "execution_count": 16,
   "metadata": {},
   "outputs": [
    {
     "data": {
      "text/html": [
       "<div>\n",
       "<style scoped>\n",
       "    .dataframe tbody tr th:only-of-type {\n",
       "        vertical-align: middle;\n",
       "    }\n",
       "\n",
       "    .dataframe tbody tr th {\n",
       "        vertical-align: top;\n",
       "    }\n",
       "\n",
       "    .dataframe thead th {\n",
       "        text-align: right;\n",
       "    }\n",
       "</style>\n",
       "<table border=\"1\" class=\"dataframe\">\n",
       "  <thead>\n",
       "    <tr style=\"text-align: right;\">\n",
       "      <th></th>\n",
       "      <th>ZIPCODE</th>\n",
       "      <th>geometry</th>\n",
       "    </tr>\n",
       "  </thead>\n",
       "  <tbody>\n",
       "    <tr>\n",
       "      <th>0</th>\n",
       "      <td>11436</td>\n",
       "      <td>POLYGON ((1038098.252 188138.380, 1038141.936 ...</td>\n",
       "    </tr>\n",
       "    <tr>\n",
       "      <th>1</th>\n",
       "      <td>11213</td>\n",
       "      <td>POLYGON ((1001613.713 186926.440, 1002314.243 ...</td>\n",
       "    </tr>\n",
       "    <tr>\n",
       "      <th>2</th>\n",
       "      <td>11212</td>\n",
       "      <td>POLYGON ((1011174.276 183696.338, 1011373.584 ...</td>\n",
       "    </tr>\n",
       "    <tr>\n",
       "      <th>3</th>\n",
       "      <td>11225</td>\n",
       "      <td>POLYGON ((995908.365 183617.613, 996522.848 18...</td>\n",
       "    </tr>\n",
       "    <tr>\n",
       "      <th>4</th>\n",
       "      <td>11218</td>\n",
       "      <td>POLYGON ((991997.113 176307.496, 992042.798 17...</td>\n",
       "    </tr>\n",
       "  </tbody>\n",
       "</table>\n",
       "</div>"
      ],
      "text/plain": [
       "  ZIPCODE                                           geometry\n",
       "0   11436  POLYGON ((1038098.252 188138.380, 1038141.936 ...\n",
       "1   11213  POLYGON ((1001613.713 186926.440, 1002314.243 ...\n",
       "2   11212  POLYGON ((1011174.276 183696.338, 1011373.584 ...\n",
       "3   11225  POLYGON ((995908.365 183617.613, 996522.848 18...\n",
       "4   11218  POLYGON ((991997.113 176307.496, 992042.798 17..."
      ]
     },
     "execution_count": 16,
     "metadata": {},
     "output_type": "execute_result"
    }
   ],
   "source": [
    "gdf_zipcode_2 = gdf_zipcode_1.drop_duplicates().reset_index(drop=True)\n",
    "gdf_zipcode_2.head()"
   ]
  },
  {
   "cell_type": "markdown",
   "metadata": {},
   "source": [
    "Drop the rows in df_zillow outsied NYC"
   ]
  },
  {
   "cell_type": "code",
   "execution_count": 17,
   "metadata": {},
   "outputs": [
    {
     "data": {
      "text/html": [
       "<div>\n",
       "<style scoped>\n",
       "    .dataframe tbody tr th:only-of-type {\n",
       "        vertical-align: middle;\n",
       "    }\n",
       "\n",
       "    .dataframe tbody tr th {\n",
       "        vertical-align: top;\n",
       "    }\n",
       "\n",
       "    .dataframe thead th {\n",
       "        text-align: right;\n",
       "    }\n",
       "</style>\n",
       "<table border=\"1\" class=\"dataframe\">\n",
       "  <thead>\n",
       "    <tr style=\"text-align: right;\">\n",
       "      <th></th>\n",
       "      <th>RegionName</th>\n",
       "      <th>2015-01-31</th>\n",
       "      <th>2015-02-28</th>\n",
       "      <th>2015-03-31</th>\n",
       "      <th>2015-04-30</th>\n",
       "      <th>2015-05-31</th>\n",
       "      <th>2015-06-30</th>\n",
       "      <th>2015-07-31</th>\n",
       "      <th>2015-08-31</th>\n",
       "      <th>2015-09-30</th>\n",
       "      <th>...</th>\n",
       "      <th>2022-12-31</th>\n",
       "      <th>2023-01-31</th>\n",
       "      <th>2023-02-28</th>\n",
       "      <th>2023-03-31</th>\n",
       "      <th>2023-04-30</th>\n",
       "      <th>2023-05-31</th>\n",
       "      <th>2023-06-30</th>\n",
       "      <th>2023-07-31</th>\n",
       "      <th>2023-08-31</th>\n",
       "      <th>2023-09-30</th>\n",
       "    </tr>\n",
       "  </thead>\n",
       "  <tbody>\n",
       "    <tr>\n",
       "      <th>0</th>\n",
       "      <td>11385</td>\n",
       "      <td>NaN</td>\n",
       "      <td>2087.527084</td>\n",
       "      <td>NaN</td>\n",
       "      <td>2149.924252</td>\n",
       "      <td>2166.263698</td>\n",
       "      <td>2148.992886</td>\n",
       "      <td>2190.098591</td>\n",
       "      <td>2264.966715</td>\n",
       "      <td>2297.900917</td>\n",
       "      <td>...</td>\n",
       "      <td>2935.808220</td>\n",
       "      <td>2895.699421</td>\n",
       "      <td>2873.209025</td>\n",
       "      <td>2881.906361</td>\n",
       "      <td>2913.546218</td>\n",
       "      <td>2963.964134</td>\n",
       "      <td>3005.735342</td>\n",
       "      <td>3034.413822</td>\n",
       "      <td>3064.476503</td>\n",
       "      <td>3079.585783</td>\n",
       "    </tr>\n",
       "    <tr>\n",
       "      <th>1</th>\n",
       "      <td>11208</td>\n",
       "      <td>NaN</td>\n",
       "      <td>NaN</td>\n",
       "      <td>NaN</td>\n",
       "      <td>NaN</td>\n",
       "      <td>NaN</td>\n",
       "      <td>NaN</td>\n",
       "      <td>NaN</td>\n",
       "      <td>NaN</td>\n",
       "      <td>NaN</td>\n",
       "      <td>...</td>\n",
       "      <td>2508.670432</td>\n",
       "      <td>2588.030194</td>\n",
       "      <td>2613.790654</td>\n",
       "      <td>2585.561351</td>\n",
       "      <td>2633.200754</td>\n",
       "      <td>2672.038493</td>\n",
       "      <td>2806.918757</td>\n",
       "      <td>2765.224364</td>\n",
       "      <td>2737.547470</td>\n",
       "      <td>2728.733333</td>\n",
       "    </tr>\n",
       "    <tr>\n",
       "      <th>2</th>\n",
       "      <td>11236</td>\n",
       "      <td>NaN</td>\n",
       "      <td>NaN</td>\n",
       "      <td>NaN</td>\n",
       "      <td>NaN</td>\n",
       "      <td>NaN</td>\n",
       "      <td>NaN</td>\n",
       "      <td>NaN</td>\n",
       "      <td>NaN</td>\n",
       "      <td>NaN</td>\n",
       "      <td>...</td>\n",
       "      <td>NaN</td>\n",
       "      <td>NaN</td>\n",
       "      <td>NaN</td>\n",
       "      <td>NaN</td>\n",
       "      <td>NaN</td>\n",
       "      <td>NaN</td>\n",
       "      <td>NaN</td>\n",
       "      <td>NaN</td>\n",
       "      <td>2285.460026</td>\n",
       "      <td>2362.500000</td>\n",
       "    </tr>\n",
       "    <tr>\n",
       "      <th>3</th>\n",
       "      <td>10467</td>\n",
       "      <td>NaN</td>\n",
       "      <td>NaN</td>\n",
       "      <td>NaN</td>\n",
       "      <td>NaN</td>\n",
       "      <td>NaN</td>\n",
       "      <td>NaN</td>\n",
       "      <td>NaN</td>\n",
       "      <td>NaN</td>\n",
       "      <td>NaN</td>\n",
       "      <td>...</td>\n",
       "      <td>2145.642295</td>\n",
       "      <td>2155.617718</td>\n",
       "      <td>2172.346611</td>\n",
       "      <td>2160.962748</td>\n",
       "      <td>2110.533203</td>\n",
       "      <td>2180.323655</td>\n",
       "      <td>2276.372290</td>\n",
       "      <td>2334.204728</td>\n",
       "      <td>2353.686402</td>\n",
       "      <td>2423.888889</td>\n",
       "    </tr>\n",
       "    <tr>\n",
       "      <th>4</th>\n",
       "      <td>11373</td>\n",
       "      <td>NaN</td>\n",
       "      <td>NaN</td>\n",
       "      <td>NaN</td>\n",
       "      <td>NaN</td>\n",
       "      <td>NaN</td>\n",
       "      <td>NaN</td>\n",
       "      <td>NaN</td>\n",
       "      <td>NaN</td>\n",
       "      <td>NaN</td>\n",
       "      <td>...</td>\n",
       "      <td>2199.459063</td>\n",
       "      <td>2255.604528</td>\n",
       "      <td>2262.101623</td>\n",
       "      <td>2271.514956</td>\n",
       "      <td>2250.182334</td>\n",
       "      <td>2231.959479</td>\n",
       "      <td>2257.413993</td>\n",
       "      <td>2247.592851</td>\n",
       "      <td>2302.557354</td>\n",
       "      <td>2292.994444</td>\n",
       "    </tr>\n",
       "  </tbody>\n",
       "</table>\n",
       "<p>5 rows × 106 columns</p>\n",
       "</div>"
      ],
      "text/plain": [
       "   RegionName  2015-01-31   2015-02-28  2015-03-31   2015-04-30   2015-05-31  \\\n",
       "0       11385         NaN  2087.527084         NaN  2149.924252  2166.263698   \n",
       "1       11208         NaN          NaN         NaN          NaN          NaN   \n",
       "2       11236         NaN          NaN         NaN          NaN          NaN   \n",
       "3       10467         NaN          NaN         NaN          NaN          NaN   \n",
       "4       11373         NaN          NaN         NaN          NaN          NaN   \n",
       "\n",
       "    2015-06-30   2015-07-31   2015-08-31   2015-09-30  ...   2022-12-31  \\\n",
       "0  2148.992886  2190.098591  2264.966715  2297.900917  ...  2935.808220   \n",
       "1          NaN          NaN          NaN          NaN  ...  2508.670432   \n",
       "2          NaN          NaN          NaN          NaN  ...          NaN   \n",
       "3          NaN          NaN          NaN          NaN  ...  2145.642295   \n",
       "4          NaN          NaN          NaN          NaN  ...  2199.459063   \n",
       "\n",
       "    2023-01-31   2023-02-28   2023-03-31   2023-04-30   2023-05-31  \\\n",
       "0  2895.699421  2873.209025  2881.906361  2913.546218  2963.964134   \n",
       "1  2588.030194  2613.790654  2585.561351  2633.200754  2672.038493   \n",
       "2          NaN          NaN          NaN          NaN          NaN   \n",
       "3  2155.617718  2172.346611  2160.962748  2110.533203  2180.323655   \n",
       "4  2255.604528  2262.101623  2271.514956  2250.182334  2231.959479   \n",
       "\n",
       "    2023-06-30   2023-07-31   2023-08-31   2023-09-30  \n",
       "0  3005.735342  3034.413822  3064.476503  3079.585783  \n",
       "1  2806.918757  2765.224364  2737.547470  2728.733333  \n",
       "2          NaN          NaN  2285.460026  2362.500000  \n",
       "3  2276.372290  2334.204728  2353.686402  2423.888889  \n",
       "4  2257.413993  2247.592851  2302.557354  2292.994444  \n",
       "\n",
       "[5 rows x 106 columns]"
      ]
     },
     "execution_count": 17,
     "metadata": {},
     "output_type": "execute_result"
    }
   ],
   "source": [
    "index = df_zillow_1[df_zillow_1['City'] != \"New York\"].index\n",
    "df_zillow_2 = df_zillow_1.drop(index).reset_index(drop=True)\n",
    "df_zillow_2 = df_zillow_2.drop([\"City\"], axis=1)\n",
    "df_zillow_2.head()"
   ]
  },
  {
   "cell_type": "markdown",
   "metadata": {},
   "source": [
    "Change the format of rent dataframe"
   ]
  },
  {
   "cell_type": "code",
   "execution_count": 18,
   "metadata": {},
   "outputs": [
    {
     "data": {
      "text/html": [
       "<div>\n",
       "<style scoped>\n",
       "    .dataframe tbody tr th:only-of-type {\n",
       "        vertical-align: middle;\n",
       "    }\n",
       "\n",
       "    .dataframe tbody tr th {\n",
       "        vertical-align: top;\n",
       "    }\n",
       "\n",
       "    .dataframe thead th {\n",
       "        text-align: right;\n",
       "    }\n",
       "</style>\n",
       "<table border=\"1\" class=\"dataframe\">\n",
       "  <thead>\n",
       "    <tr style=\"text-align: right;\">\n",
       "      <th></th>\n",
       "      <th>zipcode</th>\n",
       "      <th>date</th>\n",
       "      <th>rent</th>\n",
       "    </tr>\n",
       "  </thead>\n",
       "  <tbody>\n",
       "    <tr>\n",
       "      <th>0</th>\n",
       "      <td>11385</td>\n",
       "      <td>2015-02-28</td>\n",
       "      <td>2087.527084</td>\n",
       "    </tr>\n",
       "    <tr>\n",
       "      <th>1</th>\n",
       "      <td>11385</td>\n",
       "      <td>2015-04-30</td>\n",
       "      <td>2149.924252</td>\n",
       "    </tr>\n",
       "    <tr>\n",
       "      <th>2</th>\n",
       "      <td>11385</td>\n",
       "      <td>2015-05-31</td>\n",
       "      <td>2166.263698</td>\n",
       "    </tr>\n",
       "    <tr>\n",
       "      <th>3</th>\n",
       "      <td>11385</td>\n",
       "      <td>2015-06-30</td>\n",
       "      <td>2148.992886</td>\n",
       "    </tr>\n",
       "    <tr>\n",
       "      <th>4</th>\n",
       "      <td>11385</td>\n",
       "      <td>2015-07-31</td>\n",
       "      <td>2190.098591</td>\n",
       "    </tr>\n",
       "  </tbody>\n",
       "</table>\n",
       "</div>"
      ],
      "text/plain": [
       "  zipcode        date         rent\n",
       "0   11385  2015-02-28  2087.527084\n",
       "1   11385  2015-04-30  2149.924252\n",
       "2   11385  2015-05-31  2166.263698\n",
       "3   11385  2015-06-30  2148.992886\n",
       "4   11385  2015-07-31  2190.098591"
      ]
     },
     "execution_count": 18,
     "metadata": {},
     "output_type": "execute_result"
    }
   ],
   "source": [
    "df_rent_1 = pd.DataFrame(columns=[\"zipcode\", \"date\", \"rent\"])\n",
    "temp_data = []\n",
    "for index, row in df_zillow_2.iterrows():\n",
    "    for i in range(len(row)-1):\n",
    "        temp_data.append({\"zipcode\": str(int(row[0])), \"date\": df_zillow_2.columns[i+1], \"rent\": row[i+1]})\n",
    "df_rent_1 = pd.concat([df_rent_1, pd.DataFrame(temp_data)], ignore_index=True)\n",
    "df_rent_1.dropna(subset=['rent'], inplace=True)\n",
    "df_rent_1 = df_rent_1.reset_index(drop=True)\n",
    "df_rent_1.head()"
   ]
  },
  {
   "cell_type": "markdown",
   "metadata": {},
   "source": [
    "Drop all rows in df_tree and df_311 with null values."
   ]
  },
  {
   "cell_type": "code",
   "execution_count": 19,
   "metadata": {},
   "outputs": [],
   "source": [
    "df_311_1 = df_311_1.dropna()\n",
    "df_tree_1 = df_tree_1.dropna()"
   ]
  },
  {
   "cell_type": "markdown",
   "metadata": {},
   "source": [
    "### Normalize column names & column types where needed"
   ]
  },
  {
   "cell_type": "markdown",
   "metadata": {},
   "source": [
    "Normalize the name of zipcode colunms"
   ]
  },
  {
   "cell_type": "code",
   "execution_count": 20,
   "metadata": {},
   "outputs": [
    {
     "data": {
      "text/html": [
       "<div>\n",
       "<style scoped>\n",
       "    .dataframe tbody tr th:only-of-type {\n",
       "        vertical-align: middle;\n",
       "    }\n",
       "\n",
       "    .dataframe tbody tr th {\n",
       "        vertical-align: top;\n",
       "    }\n",
       "\n",
       "    .dataframe thead th {\n",
       "        text-align: right;\n",
       "    }\n",
       "</style>\n",
       "<table border=\"1\" class=\"dataframe\">\n",
       "  <thead>\n",
       "    <tr style=\"text-align: right;\">\n",
       "      <th></th>\n",
       "      <th>date</th>\n",
       "      <th>complaint_type</th>\n",
       "      <th>zipcode</th>\n",
       "      <th>latitude</th>\n",
       "      <th>longitude</th>\n",
       "    </tr>\n",
       "  </thead>\n",
       "  <tbody>\n",
       "    <tr>\n",
       "      <th>0</th>\n",
       "      <td>2023-09-30T23:59:58.000</td>\n",
       "      <td>Noise - Street/Sidewalk</td>\n",
       "      <td>11226</td>\n",
       "      <td>40.655672001198894</td>\n",
       "      <td>-73.95917686020623</td>\n",
       "    </tr>\n",
       "    <tr>\n",
       "      <th>1</th>\n",
       "      <td>2023-09-30T23:59:38.000</td>\n",
       "      <td>Noise - Residential</td>\n",
       "      <td>11361</td>\n",
       "      <td>40.76675595839554</td>\n",
       "      <td>-73.78751847563191</td>\n",
       "    </tr>\n",
       "    <tr>\n",
       "      <th>2</th>\n",
       "      <td>2023-09-30T23:59:35.000</td>\n",
       "      <td>Noise - Commercial</td>\n",
       "      <td>10002</td>\n",
       "      <td>40.71949965458691</td>\n",
       "      <td>-73.98486650733275</td>\n",
       "    </tr>\n",
       "    <tr>\n",
       "      <th>3</th>\n",
       "      <td>2023-09-30T23:59:34.000</td>\n",
       "      <td>Noise - Residential</td>\n",
       "      <td>11435</td>\n",
       "      <td>40.687499303408536</td>\n",
       "      <td>-73.7972903094197</td>\n",
       "    </tr>\n",
       "    <tr>\n",
       "      <th>4</th>\n",
       "      <td>2023-09-30T23:59:28.000</td>\n",
       "      <td>Noise - Residential</td>\n",
       "      <td>11226</td>\n",
       "      <td>40.65220215349917</td>\n",
       "      <td>-73.9579464603267</td>\n",
       "    </tr>\n",
       "  </tbody>\n",
       "</table>\n",
       "</div>"
      ],
      "text/plain": [
       "                      date           complaint_type zipcode  \\\n",
       "0  2023-09-30T23:59:58.000  Noise - Street/Sidewalk   11226   \n",
       "1  2023-09-30T23:59:38.000      Noise - Residential   11361   \n",
       "2  2023-09-30T23:59:35.000       Noise - Commercial   10002   \n",
       "3  2023-09-30T23:59:34.000      Noise - Residential   11435   \n",
       "4  2023-09-30T23:59:28.000      Noise - Residential   11226   \n",
       "\n",
       "             latitude           longitude  \n",
       "0  40.655672001198894  -73.95917686020623  \n",
       "1   40.76675595839554  -73.78751847563191  \n",
       "2   40.71949965458691  -73.98486650733275  \n",
       "3  40.687499303408536   -73.7972903094197  \n",
       "4   40.65220215349917   -73.9579464603267  "
      ]
     },
     "execution_count": 20,
     "metadata": {},
     "output_type": "execute_result"
    }
   ],
   "source": [
    "df_311_1.rename(columns={'incident_zip': 'zipcode', 'created_date': 'date'}, inplace=True)\n",
    "df_311_1.head()"
   ]
  },
  {
   "cell_type": "code",
   "execution_count": 21,
   "metadata": {},
   "outputs": [
    {
     "data": {
      "text/html": [
       "<div>\n",
       "<style scoped>\n",
       "    .dataframe tbody tr th:only-of-type {\n",
       "        vertical-align: middle;\n",
       "    }\n",
       "\n",
       "    .dataframe tbody tr th {\n",
       "        vertical-align: top;\n",
       "    }\n",
       "\n",
       "    .dataframe thead th {\n",
       "        text-align: right;\n",
       "    }\n",
       "</style>\n",
       "<table border=\"1\" class=\"dataframe\">\n",
       "  <thead>\n",
       "    <tr style=\"text-align: right;\">\n",
       "      <th></th>\n",
       "      <th>zipcode</th>\n",
       "      <th>location</th>\n",
       "    </tr>\n",
       "  </thead>\n",
       "  <tbody>\n",
       "    <tr>\n",
       "      <th>0</th>\n",
       "      <td>11436</td>\n",
       "      <td>POLYGON ((1038098.252 188138.380, 1038141.936 ...</td>\n",
       "    </tr>\n",
       "    <tr>\n",
       "      <th>1</th>\n",
       "      <td>11213</td>\n",
       "      <td>POLYGON ((1001613.713 186926.440, 1002314.243 ...</td>\n",
       "    </tr>\n",
       "    <tr>\n",
       "      <th>2</th>\n",
       "      <td>11212</td>\n",
       "      <td>POLYGON ((1011174.276 183696.338, 1011373.584 ...</td>\n",
       "    </tr>\n",
       "    <tr>\n",
       "      <th>3</th>\n",
       "      <td>11225</td>\n",
       "      <td>POLYGON ((995908.365 183617.613, 996522.848 18...</td>\n",
       "    </tr>\n",
       "    <tr>\n",
       "      <th>4</th>\n",
       "      <td>11218</td>\n",
       "      <td>POLYGON ((991997.113 176307.496, 992042.798 17...</td>\n",
       "    </tr>\n",
       "  </tbody>\n",
       "</table>\n",
       "</div>"
      ],
      "text/plain": [
       "  zipcode                                           location\n",
       "0   11436  POLYGON ((1038098.252 188138.380, 1038141.936 ...\n",
       "1   11213  POLYGON ((1001613.713 186926.440, 1002314.243 ...\n",
       "2   11212  POLYGON ((1011174.276 183696.338, 1011373.584 ...\n",
       "3   11225  POLYGON ((995908.365 183617.613, 996522.848 18...\n",
       "4   11218  POLYGON ((991997.113 176307.496, 992042.798 17..."
      ]
     },
     "execution_count": 21,
     "metadata": {},
     "output_type": "execute_result"
    }
   ],
   "source": [
    "gdf_zipcode_2.rename(columns={'ZIPCODE': 'zipcode', 'geometry': 'location'}, inplace=True)\n",
    "gdf_zipcode_2 = gdf_zipcode_2.set_geometry('location')\n",
    "gdf_zipcode_2.head()"
   ]
  },
  {
   "cell_type": "code",
   "execution_count": 22,
   "metadata": {},
   "outputs": [
    {
     "data": {
      "text/html": [
       "<div>\n",
       "<style scoped>\n",
       "    .dataframe tbody tr th:only-of-type {\n",
       "        vertical-align: middle;\n",
       "    }\n",
       "\n",
       "    .dataframe tbody tr th {\n",
       "        vertical-align: top;\n",
       "    }\n",
       "\n",
       "    .dataframe thead th {\n",
       "        text-align: right;\n",
       "    }\n",
       "</style>\n",
       "<table border=\"1\" class=\"dataframe\">\n",
       "  <thead>\n",
       "    <tr style=\"text-align: right;\">\n",
       "      <th></th>\n",
       "      <th>zipcode</th>\n",
       "      <th>tree_id</th>\n",
       "      <th>latitude</th>\n",
       "      <th>longitude</th>\n",
       "      <th>x_sp</th>\n",
       "      <th>y_sp</th>\n",
       "      <th>status</th>\n",
       "      <th>health</th>\n",
       "      <th>species</th>\n",
       "    </tr>\n",
       "  </thead>\n",
       "  <tbody>\n",
       "    <tr>\n",
       "      <th>0</th>\n",
       "      <td>11375</td>\n",
       "      <td>180683</td>\n",
       "      <td>40.72309177</td>\n",
       "      <td>-73.84421522</td>\n",
       "      <td>1027431.14821</td>\n",
       "      <td>202756.768749</td>\n",
       "      <td>Alive</td>\n",
       "      <td>Fair</td>\n",
       "      <td>red maple</td>\n",
       "    </tr>\n",
       "    <tr>\n",
       "      <th>1</th>\n",
       "      <td>11357</td>\n",
       "      <td>200540</td>\n",
       "      <td>40.79411067</td>\n",
       "      <td>-73.81867946</td>\n",
       "      <td>1034455.70109</td>\n",
       "      <td>228644.837379</td>\n",
       "      <td>Alive</td>\n",
       "      <td>Fair</td>\n",
       "      <td>pin oak</td>\n",
       "    </tr>\n",
       "    <tr>\n",
       "      <th>2</th>\n",
       "      <td>11211</td>\n",
       "      <td>204026</td>\n",
       "      <td>40.71758074</td>\n",
       "      <td>-73.9366077</td>\n",
       "      <td>1001822.83131</td>\n",
       "      <td>200716.891267</td>\n",
       "      <td>Alive</td>\n",
       "      <td>Good</td>\n",
       "      <td>honeylocust</td>\n",
       "    </tr>\n",
       "    <tr>\n",
       "      <th>3</th>\n",
       "      <td>11211</td>\n",
       "      <td>204337</td>\n",
       "      <td>40.71353749</td>\n",
       "      <td>-73.93445616</td>\n",
       "      <td>1002420.35833</td>\n",
       "      <td>199244.253136</td>\n",
       "      <td>Alive</td>\n",
       "      <td>Good</td>\n",
       "      <td>honeylocust</td>\n",
       "    </tr>\n",
       "    <tr>\n",
       "      <th>4</th>\n",
       "      <td>11215</td>\n",
       "      <td>189565</td>\n",
       "      <td>40.66677776</td>\n",
       "      <td>-73.97597938</td>\n",
       "      <td>990913.775046</td>\n",
       "      <td>182202.425999</td>\n",
       "      <td>Alive</td>\n",
       "      <td>Good</td>\n",
       "      <td>American linden</td>\n",
       "    </tr>\n",
       "  </tbody>\n",
       "</table>\n",
       "</div>"
      ],
      "text/plain": [
       "  zipcode tree_id     latitude     longitude           x_sp           y_sp  \\\n",
       "0   11375  180683  40.72309177  -73.84421522  1027431.14821  202756.768749   \n",
       "1   11357  200540  40.79411067  -73.81867946  1034455.70109  228644.837379   \n",
       "2   11211  204026  40.71758074   -73.9366077  1001822.83131  200716.891267   \n",
       "3   11211  204337  40.71353749  -73.93445616  1002420.35833  199244.253136   \n",
       "4   11215  189565  40.66677776  -73.97597938  990913.775046  182202.425999   \n",
       "\n",
       "  status health          species  \n",
       "0  Alive   Fair        red maple  \n",
       "1  Alive   Fair          pin oak  \n",
       "2  Alive   Good      honeylocust  \n",
       "3  Alive   Good      honeylocust  \n",
       "4  Alive   Good  American linden  "
      ]
     },
     "execution_count": 22,
     "metadata": {},
     "output_type": "execute_result"
    }
   ],
   "source": [
    "df_tree_1.rename(columns={'spc_common': 'species'}, inplace=True)\n",
    "df_tree_1.head()"
   ]
  },
  {
   "cell_type": "markdown",
   "metadata": {},
   "source": [
    "Transform date columns from strings to datetime Python objects\n"
   ]
  },
  {
   "cell_type": "code",
   "execution_count": 23,
   "metadata": {},
   "outputs": [
    {
     "name": "stdout",
     "output_type": "stream",
     "text": [
      "date              datetime64[ns]\n",
      "complaint_type            object\n",
      "zipcode                   object\n",
      "latitude                  object\n",
      "longitude                 object\n",
      "dtype: object\n"
     ]
    }
   ],
   "source": [
    "df_311_1['date'] = pd.to_datetime(df_311_1['date'])\n",
    "print(df_311_1.dtypes) "
   ]
  },
  {
   "cell_type": "code",
   "execution_count": 24,
   "metadata": {},
   "outputs": [
    {
     "name": "stdout",
     "output_type": "stream",
     "text": [
      "zipcode            object\n",
      "date       datetime64[ns]\n",
      "rent              float64\n",
      "dtype: object\n"
     ]
    }
   ],
   "source": [
    "df_rent_1['date'] = pd.to_datetime(df_rent_1['date'])\n",
    "print(df_rent_1.dtypes) "
   ]
  },
  {
   "cell_type": "markdown",
   "metadata": {},
   "source": [
    "### Normalize the Spatial Reference Identifiers (SRID) of any geometry."
   ]
  },
  {
   "cell_type": "code",
   "execution_count": 25,
   "metadata": {},
   "outputs": [],
   "source": [
    "from shapely.geometry import Point"
   ]
  },
  {
   "cell_type": "code",
   "execution_count": 26,
   "metadata": {},
   "outputs": [
    {
     "data": {
      "text/html": [
       "<div>\n",
       "<style scoped>\n",
       "    .dataframe tbody tr th:only-of-type {\n",
       "        vertical-align: middle;\n",
       "    }\n",
       "\n",
       "    .dataframe tbody tr th {\n",
       "        vertical-align: top;\n",
       "    }\n",
       "\n",
       "    .dataframe thead th {\n",
       "        text-align: right;\n",
       "    }\n",
       "</style>\n",
       "<table border=\"1\" class=\"dataframe\">\n",
       "  <thead>\n",
       "    <tr style=\"text-align: right;\">\n",
       "      <th></th>\n",
       "      <th>zipcode</th>\n",
       "      <th>location</th>\n",
       "    </tr>\n",
       "  </thead>\n",
       "  <tbody>\n",
       "    <tr>\n",
       "      <th>0</th>\n",
       "      <td>11436</td>\n",
       "      <td>POLYGON ((-73.80585 40.68291, -73.80569 40.682...</td>\n",
       "    </tr>\n",
       "    <tr>\n",
       "      <th>1</th>\n",
       "      <td>11213</td>\n",
       "      <td>POLYGON ((-73.93740 40.67973, -73.93487 40.679...</td>\n",
       "    </tr>\n",
       "    <tr>\n",
       "      <th>2</th>\n",
       "      <td>11212</td>\n",
       "      <td>POLYGON ((-73.90294 40.67084, -73.90223 40.668...</td>\n",
       "    </tr>\n",
       "    <tr>\n",
       "      <th>3</th>\n",
       "      <td>11225</td>\n",
       "      <td>POLYGON ((-73.95797 40.67066, -73.95576 40.670...</td>\n",
       "    </tr>\n",
       "    <tr>\n",
       "      <th>4</th>\n",
       "      <td>11218</td>\n",
       "      <td>POLYGON ((-73.97208 40.65060, -73.97192 40.650...</td>\n",
       "    </tr>\n",
       "  </tbody>\n",
       "</table>\n",
       "</div>"
      ],
      "text/plain": [
       "  zipcode                                           location\n",
       "0   11436  POLYGON ((-73.80585 40.68291, -73.80569 40.682...\n",
       "1   11213  POLYGON ((-73.93740 40.67973, -73.93487 40.679...\n",
       "2   11212  POLYGON ((-73.90294 40.67084, -73.90223 40.668...\n",
       "3   11225  POLYGON ((-73.95797 40.67066, -73.95576 40.670...\n",
       "4   11218  POLYGON ((-73.97208 40.65060, -73.97192 40.650..."
      ]
     },
     "execution_count": 26,
     "metadata": {},
     "output_type": "execute_result"
    }
   ],
   "source": [
    "gdf_zipcode_2 = gdf_zipcode_2.to_crs('EPSG:4326')\n",
    "gdf_zipcode_2.head()"
   ]
  },
  {
   "cell_type": "code",
   "execution_count": 27,
   "metadata": {},
   "outputs": [
    {
     "name": "stdout",
     "output_type": "stream",
     "text": [
      "EPSG:4326\n"
     ]
    }
   ],
   "source": [
    "print(gdf_zipcode_2.crs)"
   ]
  },
  {
   "cell_type": "code",
   "execution_count": 28,
   "metadata": {},
   "outputs": [
    {
     "data": {
      "text/html": [
       "<div>\n",
       "<style scoped>\n",
       "    .dataframe tbody tr th:only-of-type {\n",
       "        vertical-align: middle;\n",
       "    }\n",
       "\n",
       "    .dataframe tbody tr th {\n",
       "        vertical-align: top;\n",
       "    }\n",
       "\n",
       "    .dataframe thead th {\n",
       "        text-align: right;\n",
       "    }\n",
       "</style>\n",
       "<table border=\"1\" class=\"dataframe\">\n",
       "  <thead>\n",
       "    <tr style=\"text-align: right;\">\n",
       "      <th></th>\n",
       "      <th>zipcode</th>\n",
       "      <th>tree_id</th>\n",
       "      <th>latitude</th>\n",
       "      <th>longitude</th>\n",
       "      <th>x_sp</th>\n",
       "      <th>y_sp</th>\n",
       "      <th>status</th>\n",
       "      <th>health</th>\n",
       "      <th>species</th>\n",
       "      <th>location</th>\n",
       "    </tr>\n",
       "  </thead>\n",
       "  <tbody>\n",
       "    <tr>\n",
       "      <th>0</th>\n",
       "      <td>11375</td>\n",
       "      <td>180683</td>\n",
       "      <td>40.72309177</td>\n",
       "      <td>-73.84421522</td>\n",
       "      <td>1027431.14821</td>\n",
       "      <td>202756.768749</td>\n",
       "      <td>Alive</td>\n",
       "      <td>Fair</td>\n",
       "      <td>red maple</td>\n",
       "      <td>POINT (-73.84422 40.72309)</td>\n",
       "    </tr>\n",
       "    <tr>\n",
       "      <th>1</th>\n",
       "      <td>11357</td>\n",
       "      <td>200540</td>\n",
       "      <td>40.79411067</td>\n",
       "      <td>-73.81867946</td>\n",
       "      <td>1034455.70109</td>\n",
       "      <td>228644.837379</td>\n",
       "      <td>Alive</td>\n",
       "      <td>Fair</td>\n",
       "      <td>pin oak</td>\n",
       "      <td>POINT (-73.81868 40.79411)</td>\n",
       "    </tr>\n",
       "    <tr>\n",
       "      <th>2</th>\n",
       "      <td>11211</td>\n",
       "      <td>204026</td>\n",
       "      <td>40.71758074</td>\n",
       "      <td>-73.9366077</td>\n",
       "      <td>1001822.83131</td>\n",
       "      <td>200716.891267</td>\n",
       "      <td>Alive</td>\n",
       "      <td>Good</td>\n",
       "      <td>honeylocust</td>\n",
       "      <td>POINT (-73.93661 40.71758)</td>\n",
       "    </tr>\n",
       "    <tr>\n",
       "      <th>3</th>\n",
       "      <td>11211</td>\n",
       "      <td>204337</td>\n",
       "      <td>40.71353749</td>\n",
       "      <td>-73.93445616</td>\n",
       "      <td>1002420.35833</td>\n",
       "      <td>199244.253136</td>\n",
       "      <td>Alive</td>\n",
       "      <td>Good</td>\n",
       "      <td>honeylocust</td>\n",
       "      <td>POINT (-73.93446 40.71354)</td>\n",
       "    </tr>\n",
       "    <tr>\n",
       "      <th>4</th>\n",
       "      <td>11215</td>\n",
       "      <td>189565</td>\n",
       "      <td>40.66677776</td>\n",
       "      <td>-73.97597938</td>\n",
       "      <td>990913.775046</td>\n",
       "      <td>182202.425999</td>\n",
       "      <td>Alive</td>\n",
       "      <td>Good</td>\n",
       "      <td>American linden</td>\n",
       "      <td>POINT (-73.97598 40.66678)</td>\n",
       "    </tr>\n",
       "  </tbody>\n",
       "</table>\n",
       "</div>"
      ],
      "text/plain": [
       "  zipcode tree_id     latitude     longitude           x_sp           y_sp  \\\n",
       "0   11375  180683  40.72309177  -73.84421522  1027431.14821  202756.768749   \n",
       "1   11357  200540  40.79411067  -73.81867946  1034455.70109  228644.837379   \n",
       "2   11211  204026  40.71758074   -73.9366077  1001822.83131  200716.891267   \n",
       "3   11211  204337  40.71353749  -73.93445616  1002420.35833  199244.253136   \n",
       "4   11215  189565  40.66677776  -73.97597938  990913.775046  182202.425999   \n",
       "\n",
       "  status health          species                    location  \n",
       "0  Alive   Fair        red maple  POINT (-73.84422 40.72309)  \n",
       "1  Alive   Fair          pin oak  POINT (-73.81868 40.79411)  \n",
       "2  Alive   Good      honeylocust  POINT (-73.93661 40.71758)  \n",
       "3  Alive   Good      honeylocust  POINT (-73.93446 40.71354)  \n",
       "4  Alive   Good  American linden  POINT (-73.97598 40.66678)  "
      ]
     },
     "execution_count": 28,
     "metadata": {},
     "output_type": "execute_result"
    }
   ],
   "source": [
    "df_tree_1['location'] = [Point(xy) for xy in zip(df_tree_1.longitude, df_tree_1.latitude)]\n",
    "gdf_tree_1 = gpd.GeoDataFrame(df_tree_1, geometry='location')\n",
    "gdf_tree_1.crs = 'EPSG:4326'\n",
    "gdf_tree_1.head()"
   ]
  },
  {
   "cell_type": "code",
   "execution_count": 29,
   "metadata": {},
   "outputs": [
    {
     "data": {
      "text/html": [
       "<div>\n",
       "<style scoped>\n",
       "    .dataframe tbody tr th:only-of-type {\n",
       "        vertical-align: middle;\n",
       "    }\n",
       "\n",
       "    .dataframe tbody tr th {\n",
       "        vertical-align: top;\n",
       "    }\n",
       "\n",
       "    .dataframe thead th {\n",
       "        text-align: right;\n",
       "    }\n",
       "</style>\n",
       "<table border=\"1\" class=\"dataframe\">\n",
       "  <thead>\n",
       "    <tr style=\"text-align: right;\">\n",
       "      <th></th>\n",
       "      <th>date</th>\n",
       "      <th>complaint_type</th>\n",
       "      <th>zipcode</th>\n",
       "      <th>latitude</th>\n",
       "      <th>longitude</th>\n",
       "      <th>location</th>\n",
       "    </tr>\n",
       "  </thead>\n",
       "  <tbody>\n",
       "    <tr>\n",
       "      <th>0</th>\n",
       "      <td>2023-09-30 23:59:58</td>\n",
       "      <td>Noise - Street/Sidewalk</td>\n",
       "      <td>11226</td>\n",
       "      <td>40.655672001198894</td>\n",
       "      <td>-73.95917686020623</td>\n",
       "      <td>POINT (-73.95918 40.65567)</td>\n",
       "    </tr>\n",
       "    <tr>\n",
       "      <th>1</th>\n",
       "      <td>2023-09-30 23:59:38</td>\n",
       "      <td>Noise - Residential</td>\n",
       "      <td>11361</td>\n",
       "      <td>40.76675595839554</td>\n",
       "      <td>-73.78751847563191</td>\n",
       "      <td>POINT (-73.78752 40.76676)</td>\n",
       "    </tr>\n",
       "    <tr>\n",
       "      <th>2</th>\n",
       "      <td>2023-09-30 23:59:35</td>\n",
       "      <td>Noise - Commercial</td>\n",
       "      <td>10002</td>\n",
       "      <td>40.71949965458691</td>\n",
       "      <td>-73.98486650733275</td>\n",
       "      <td>POINT (-73.98487 40.71950)</td>\n",
       "    </tr>\n",
       "    <tr>\n",
       "      <th>3</th>\n",
       "      <td>2023-09-30 23:59:34</td>\n",
       "      <td>Noise - Residential</td>\n",
       "      <td>11435</td>\n",
       "      <td>40.687499303408536</td>\n",
       "      <td>-73.7972903094197</td>\n",
       "      <td>POINT (-73.79729 40.68750)</td>\n",
       "    </tr>\n",
       "    <tr>\n",
       "      <th>4</th>\n",
       "      <td>2023-09-30 23:59:28</td>\n",
       "      <td>Noise - Residential</td>\n",
       "      <td>11226</td>\n",
       "      <td>40.65220215349917</td>\n",
       "      <td>-73.9579464603267</td>\n",
       "      <td>POINT (-73.95795 40.65220)</td>\n",
       "    </tr>\n",
       "  </tbody>\n",
       "</table>\n",
       "</div>"
      ],
      "text/plain": [
       "                 date           complaint_type zipcode            latitude  \\\n",
       "0 2023-09-30 23:59:58  Noise - Street/Sidewalk   11226  40.655672001198894   \n",
       "1 2023-09-30 23:59:38      Noise - Residential   11361   40.76675595839554   \n",
       "2 2023-09-30 23:59:35       Noise - Commercial   10002   40.71949965458691   \n",
       "3 2023-09-30 23:59:34      Noise - Residential   11435  40.687499303408536   \n",
       "4 2023-09-30 23:59:28      Noise - Residential   11226   40.65220215349917   \n",
       "\n",
       "            longitude                    location  \n",
       "0  -73.95917686020623  POINT (-73.95918 40.65567)  \n",
       "1  -73.78751847563191  POINT (-73.78752 40.76676)  \n",
       "2  -73.98486650733275  POINT (-73.98487 40.71950)  \n",
       "3   -73.7972903094197  POINT (-73.79729 40.68750)  \n",
       "4   -73.9579464603267  POINT (-73.95795 40.65220)  "
      ]
     },
     "execution_count": 29,
     "metadata": {},
     "output_type": "execute_result"
    }
   ],
   "source": [
    "df_311_1['location'] = [Point(xy) for xy in zip(df_311_1.longitude, df_311_1.latitude)]\n",
    "gdf_311_1 = gpd.GeoDataFrame(df_311_1, geometry='location')\n",
    "gdf_311_1.crs = 'EPSG:4326'\n",
    "gdf_311_1.head()"
   ]
  },
  {
   "cell_type": "markdown",
   "metadata": {},
   "source": [
    "# Storing Data"
   ]
  },
  {
   "cell_type": "markdown",
   "metadata": {},
   "source": [
    "## Create database"
   ]
  },
  {
   "cell_type": "code",
   "execution_count": 30,
   "metadata": {},
   "outputs": [
    {
     "name": "stdout",
     "output_type": "stream",
     "text": [
      "createdb: error: database creation failed: ERROR:  database \"group36project\" already exists\n"
     ]
    }
   ],
   "source": [
    "!createdb group36project"
   ]
  },
  {
   "cell_type": "code",
   "execution_count": 31,
   "metadata": {},
   "outputs": [
    {
     "name": "stdout",
     "output_type": "stream",
     "text": [
      "ERROR:  extension \"postgis\" already exists\n"
     ]
    }
   ],
   "source": [
    "!psql --dbname group36project -c 'CREATE EXTENSION postgis;'"
   ]
  },
  {
   "cell_type": "markdown",
   "metadata": {},
   "source": [
    "## Create a schema.sql file that defines each table’s schema."
   ]
  },
  {
   "cell_type": "code",
   "execution_count": 40,
   "metadata": {},
   "outputs": [
    {
     "data": {
      "text/plain": [
       "<sqlalchemy.engine.cursor.LegacyCursorResult at 0x359ac6550>"
      ]
     },
     "execution_count": 40,
     "metadata": {},
     "output_type": "execute_result"
    }
   ],
   "source": [
    "from sqlalchemy import create_engine\n",
    "from geoalchemy2 import Geometry, WKTElement\n",
    "engine = create_engine('postgresql:///group36project')\n",
    "conn = engine.connect()\n",
    "conn.execute(\"CREATE EXTENSION IF NOT EXISTS postgis;\")"
   ]
  },
  {
   "cell_type": "code",
   "execution_count": 41,
   "metadata": {},
   "outputs": [
    {
     "name": "stderr",
     "output_type": "stream",
     "text": [
      "/var/folders/78/mzvhkg9541qgk1th67dnww8m0000gn/T/ipykernel_55121/101136632.py:15: FutureWarning: iteritems is deprecated and will be removed in a future version. Use .items instead.\n",
      "  for column, dtype in dtypes.iteritems():\n"
     ]
    }
   ],
   "source": [
    "# Get the data types of each column\n",
    "dtypes = gdf_zipcode_2.dtypes\n",
    "\n",
    "# Create a mapping from pandas data types to SQL data types\n",
    "type_mapping = {\n",
    "    'int64': 'INTEGER',\n",
    "    'float64': 'REAL',\n",
    "    'datetime64[ns]': 'TIMESTAMP',\n",
    "    'object': 'TEXT',\n",
    "    'geometry':'geometry(POLYGON,4326)' \n",
    "}\n",
    "\n",
    "# Generate SQL definitions for each column\n",
    "definitions = []\n",
    "for column, dtype in dtypes.iteritems():\n",
    "    sql_type = type_mapping[str(dtype)]\n",
    "    definitions.append(f'    {column} {sql_type}')\n",
    "\n",
    "# Generate and print the full CREATE TABLE statement\n",
    "table_name = 'zipcodes'\n",
    "sql_zipcode = f'CREATE TABLE IF NOT EXISTS {table_name} (\\n    id INTEGER PRIMARY KEY'+',\\n'+ ',\\n'.join(definitions) + '\\n);'"
   ]
  },
  {
   "cell_type": "code",
   "execution_count": 42,
   "metadata": {},
   "outputs": [
    {
     "name": "stderr",
     "output_type": "stream",
     "text": [
      "/var/folders/78/mzvhkg9541qgk1th67dnww8m0000gn/T/ipykernel_55121/597809228.py:15: FutureWarning: iteritems is deprecated and will be removed in a future version. Use .items instead.\n",
      "  for column, dtype in dtypes.iteritems():\n"
     ]
    }
   ],
   "source": [
    "# Get the data types of each column\n",
    "dtypes = gdf_311_1.dtypes\n",
    "\n",
    "# Create a mapping from pandas data types to SQL data types\n",
    "type_mapping = {\n",
    "    'int64': 'INTEGER',\n",
    "    'float64': 'REAL',\n",
    "    'datetime64[ns]': 'TIMESTAMP',\n",
    "    'object': 'TEXT',\n",
    "    'geometry':'geometry(POINT,4326)' \n",
    "}\n",
    "\n",
    "# Generate SQL definitions for each column\n",
    "definitions = []\n",
    "for column, dtype in dtypes.iteritems():\n",
    "    sql_type = type_mapping[str(dtype)]\n",
    "    definitions.append(f'    {column} {sql_type}')\n",
    "\n",
    "# Generate and print the full CREATE TABLE statement\n",
    "table_name = 'complaints'\n",
    "sql_311 = f'CREATE TABLE IF NOT EXISTS {table_name} (\\n    id INTEGER PRIMARY KEY'+',\\n'+ ',\\n'.join(definitions) + '\\n);'"
   ]
  },
  {
   "cell_type": "code",
   "execution_count": 43,
   "metadata": {},
   "outputs": [
    {
     "name": "stderr",
     "output_type": "stream",
     "text": [
      "/var/folders/78/mzvhkg9541qgk1th67dnww8m0000gn/T/ipykernel_55121/1637391997.py:15: FutureWarning: iteritems is deprecated and will be removed in a future version. Use .items instead.\n",
      "  for column, dtype in dtypes.iteritems():\n"
     ]
    }
   ],
   "source": [
    "# Get the data types of each column\n",
    "dtypes = gdf_tree_1.dtypes\n",
    "\n",
    "# Create a mapping from pandas data types to SQL data types\n",
    "type_mapping = {\n",
    "    'int64': 'INTEGER',\n",
    "    'float64': 'REAL',\n",
    "    'datetime64[ns]': 'TIMESTAMP',\n",
    "    'object': 'TEXT',\n",
    "    'geometry':'geometry(POINT,4326)' \n",
    "}\n",
    "\n",
    "# Generate SQL definitions for each column\n",
    "definitions = []\n",
    "for column, dtype in dtypes.iteritems():\n",
    "    sql_type = type_mapping[str(dtype)]\n",
    "    definitions.append(f'    {column} {sql_type}')\n",
    "\n",
    "# Generate and print the full CREATE TABLE statement\n",
    "table_name = 'trees'\n",
    "sql_tree = f'CREATE TABLE IF NOT EXISTS {table_name} (\\n    id INTEGER PRIMARY KEY'+',\\n'+ ',\\n'.join(definitions) + '\\n);'"
   ]
  },
  {
   "cell_type": "code",
   "execution_count": 44,
   "metadata": {},
   "outputs": [
    {
     "name": "stderr",
     "output_type": "stream",
     "text": [
      "/var/folders/78/mzvhkg9541qgk1th67dnww8m0000gn/T/ipykernel_55121/1354330607.py:14: FutureWarning: iteritems is deprecated and will be removed in a future version. Use .items instead.\n",
      "  for column, dtype in dtypes.iteritems():\n"
     ]
    }
   ],
   "source": [
    "# Get the data types of each column\n",
    "dtypes = df_rent_1.dtypes\n",
    "\n",
    "# Create a mapping from pandas data types to SQL data types\n",
    "type_mapping = {\n",
    "    'int64': 'INTEGER',\n",
    "    'float64': 'REAL',\n",
    "    'datetime64[ns]': 'TIMESTAMP',\n",
    "    'object': 'TEXT',\n",
    "}\n",
    "\n",
    "# Generate SQL definitions for each column\n",
    "definitions = []\n",
    "for column, dtype in dtypes.iteritems():\n",
    "    sql_type = type_mapping[str(dtype)]\n",
    "    definitions.append(f'    {column} {sql_type}')\n",
    "\n",
    "# Generate and print the full CREATE TABLE statement\n",
    "table_name = 'rents'\n",
    "sql_zillow = f'CREATE TABLE IF NOT EXISTS {table_name} (\\n    id INTEGER PRIMARY KEY'+',\\n'+ ',\\n'.join(definitions) + '\\n);'"
   ]
  },
  {
   "cell_type": "code",
   "execution_count": 45,
   "metadata": {},
   "outputs": [],
   "source": [
    "# Write to 'schema.sql' file\n",
    "with open('schema.sql', 'w') as f:\n",
    "    f.write(sql_zipcode)\n",
    "    f.write(sql_311)\n",
    "    f.write(sql_tree)\n",
    "    f.write(sql_zillow)"
   ]
  },
  {
   "cell_type": "code",
   "execution_count": 46,
   "metadata": {},
   "outputs": [],
   "source": [
    "with open('schema.sql') as f:\n",
    "    with engine.connect() as connection:\n",
    "        connection.execute(f.read())"
   ]
  },
  {
   "cell_type": "markdown",
   "metadata": {},
   "source": [
    "## Add data to database"
   ]
  },
  {
   "cell_type": "code",
   "execution_count": 47,
   "metadata": {},
   "outputs": [],
   "source": [
    "gdf_311_1.to_postgis(\"complaints\", engine, if_exists='append', index=True, index_label='id')"
   ]
  },
  {
   "cell_type": "code",
   "execution_count": 48,
   "metadata": {},
   "outputs": [],
   "source": [
    "gdf_tree_1.to_postgis(\"trees\", engine, if_exists='append', index=True, index_label='id')"
   ]
  },
  {
   "cell_type": "code",
   "execution_count": 49,
   "metadata": {},
   "outputs": [],
   "source": [
    "gdf_zipcode_2.to_postgis(\"zipcodes\", engine, if_exists='append', index=True, index_label='id')"
   ]
  },
  {
   "cell_type": "code",
   "execution_count": 50,
   "metadata": {},
   "outputs": [
    {
     "data": {
      "text/plain": [
       "39"
      ]
     },
     "execution_count": 50,
     "metadata": {},
     "output_type": "execute_result"
    }
   ],
   "source": [
    "df_rent_1.to_sql(\"rents\", engine, if_exists='append', index=True, index_label='id')"
   ]
  },
  {
   "cell_type": "code",
   "execution_count": 51,
   "metadata": {},
   "outputs": [
    {
     "name": "stdout",
     "output_type": "stream",
     "text": [
      "  f_geometry_column  coord_dimension  srid   type\n",
      "0          location                2  4326  POINT\n"
     ]
    }
   ],
   "source": [
    "query = \"\"\"\n",
    "SELECT f_geometry_column, coord_dimension, srid, type \n",
    "FROM geometry_columns \n",
    "WHERE f_table_name = 'trees'\n",
    "\"\"\"\n",
    "df = pd.read_sql_query(query, engine)\n",
    "print(df)"
   ]
  },
  {
   "cell_type": "markdown",
   "metadata": {},
   "source": [
    "# Understanding Data"
   ]
  },
  {
   "cell_type": "code",
   "execution_count": 52,
   "metadata": {},
   "outputs": [],
   "source": [
    "from sqlalchemy import text\n",
    "def write_query_to_file(query, outfile):\n",
    "    with open(outfile, 'w') as f:\n",
    "        f.write(query)"
   ]
  },
  {
   "cell_type": "markdown",
   "metadata": {},
   "source": [
    "### Query 1"
   ]
  },
  {
   "cell_type": "code",
   "execution_count": 53,
   "metadata": {},
   "outputs": [],
   "source": [
    "QUERY_1_FILENAME = \"Query 1\""
   ]
  },
  {
   "cell_type": "code",
   "execution_count": 54,
   "metadata": {},
   "outputs": [
    {
     "name": "stdout",
     "output_type": "stream",
     "text": [
      "Empty DataFrame\n",
      "Columns: [zipcode, complaints_count]\n",
      "Index: []\n"
     ]
    }
   ],
   "source": [
    "# Define your SQL query\n",
    "QUERY_1 = \"\"\"\n",
    "SELECT zipcode, COUNT(*) AS complaints_count\n",
    "FROM complaints\n",
    "WHERE date BETWEEN '2023-09-04 00:00:00' AND '2023-09-07 00:00:00'\n",
    "GROUP BY zipcode\n",
    "ORDER BY complaints_count DESC;\n",
    "\"\"\"\n",
    "\n",
    "# Execute the query and fetch the results into a pandas DataFrame\n",
    "df = pd.read_sql_query(QUERY_1, engine)\n",
    "\n",
    "# Display the DataFrame\n",
    "print(df)"
   ]
  },
  {
   "cell_type": "code",
   "execution_count": 55,
   "metadata": {},
   "outputs": [],
   "source": [
    "with engine.connect() as conn:\n",
    "    result = conn.execute(text(QUERY_1))\n",
    "    for row in result:\n",
    "        print(row)"
   ]
  },
  {
   "cell_type": "code",
   "execution_count": 56,
   "metadata": {},
   "outputs": [],
   "source": [
    "write_query_to_file(QUERY_1, QUERY_1_FILENAME)"
   ]
  },
  {
   "cell_type": "markdown",
   "metadata": {},
   "source": [
    "### Query 2"
   ]
  },
  {
   "cell_type": "code",
   "execution_count": 57,
   "metadata": {},
   "outputs": [],
   "source": [
    "QUERY_2_FILENAME = \"Query 2\""
   ]
  },
  {
   "cell_type": "code",
   "execution_count": 58,
   "metadata": {},
   "outputs": [
    {
     "name": "stdout",
     "output_type": "stream",
     "text": [
      "  zipcode  trees_count\n",
      "0   10312        21356\n",
      "1   10314        16330\n",
      "2   10306        12616\n",
      "3   10309        12105\n",
      "4   11234        10838\n",
      "5   11385        10262\n",
      "6   11357         9016\n",
      "7   11207         8293\n",
      "8   11208         7896\n",
      "9   11434         7833\n"
     ]
    }
   ],
   "source": [
    "# Define your SQL query\n",
    "QUERY_2 = \"\"\"\n",
    "SELECT zipcode, COUNT(*) AS trees_count\n",
    "FROM trees\n",
    "GROUP BY zipcode\n",
    "ORDER BY trees_count DESC\n",
    "LIMIT 10;\n",
    "\"\"\"\n",
    "\n",
    "# Execute the query and fetch the results into a pandas DataFrame\n",
    "df = pd.read_sql_query(QUERY_2, engine)\n",
    "\n",
    "# Display the DataFrame\n",
    "print(df)"
   ]
  },
  {
   "cell_type": "code",
   "execution_count": 59,
   "metadata": {},
   "outputs": [
    {
     "name": "stdout",
     "output_type": "stream",
     "text": [
      "('10312', 21356)\n",
      "('10314', 16330)\n",
      "('10306', 12616)\n",
      "('10309', 12105)\n",
      "('11234', 10838)\n",
      "('11385', 10262)\n",
      "('11357', 9016)\n",
      "('11207', 8293)\n",
      "('11208', 7896)\n",
      "('11434', 7833)\n"
     ]
    }
   ],
   "source": [
    "with engine.connect() as conn:\n",
    "    result = conn.execute(text(QUERY_2))\n",
    "    for row in result:\n",
    "        print(row)"
   ]
  },
  {
   "cell_type": "code",
   "execution_count": 60,
   "metadata": {},
   "outputs": [],
   "source": [
    "write_query_to_file(QUERY_2, QUERY_2_FILENAME)"
   ]
  },
  {
   "cell_type": "markdown",
   "metadata": {},
   "source": [
    "### Query3"
   ]
  },
  {
   "cell_type": "code",
   "execution_count": 61,
   "metadata": {},
   "outputs": [],
   "source": [
    "QUERY_3_FILENAME = \"Query 3\""
   ]
  },
  {
   "cell_type": "code",
   "execution_count": 62,
   "metadata": {},
   "outputs": [
    {
     "name": "stdout",
     "output_type": "stream",
     "text": [
      "  zipcode average_rent\n",
      "0   10312     1,775.09\n",
      "1   10314     2,465.47\n",
      "2   10306     2,331.54\n",
      "3   10309     1,832.01\n",
      "4   11234     2,312.31\n",
      "5   11385     3,064.48\n",
      "6   11357     2,458.81\n",
      "7   11207     3,079.09\n",
      "8   11208     2,737.55\n",
      "9   11434     2,645.92\n"
     ]
    }
   ],
   "source": [
    "QUERY_3 = \"\"\"\n",
    "SELECT trees_count.zipcode, CAST(ROUND(CAST(rents.rent AS numeric), 2) AS DECIMAL(10,2)) AS average_rent\n",
    "FROM (\n",
    "    SELECT zipcode, COUNT(*) AS trees_count\n",
    "    FROM trees\n",
    "    GROUP BY zipcode\n",
    "    ORDER BY trees_count DESC\n",
    "    LIMIT 10\n",
    ") AS trees_count\n",
    "JOIN rents ON trees_count.zipcode = rents.zipcode\n",
    "WHERE rents.date = '2023-08-31'\n",
    "ORDER BY trees_count.trees_count DESC;\n",
    "\"\"\"\n",
    "\n",
    "df = pd.read_sql_query(QUERY_3, engine)\n",
    "\n",
    "df['average_rent'] = df['average_rent'].apply(lambda x: \"{:,.2f}\".format(x))\n",
    "\n",
    "print(df)"
   ]
  },
  {
   "cell_type": "code",
   "execution_count": 63,
   "metadata": {},
   "outputs": [
    {
     "name": "stdout",
     "output_type": "stream",
     "text": [
      "('10312', Decimal('1775.09'))\n",
      "('10314', Decimal('2465.47'))\n",
      "('10306', Decimal('2331.54'))\n",
      "('10309', Decimal('1832.01'))\n",
      "('11234', Decimal('2312.31'))\n",
      "('11385', Decimal('3064.48'))\n",
      "('11357', Decimal('2458.81'))\n",
      "('11207', Decimal('3079.09'))\n",
      "('11208', Decimal('2737.55'))\n",
      "('11434', Decimal('2645.92'))\n"
     ]
    }
   ],
   "source": [
    "with engine.connect() as conn:\n",
    "    result = conn.execute(text(QUERY_3))\n",
    "    for row in result:\n",
    "        print(row)"
   ]
  },
  {
   "cell_type": "code",
   "execution_count": 64,
   "metadata": {},
   "outputs": [],
   "source": [
    "write_query_to_file(QUERY_3, QUERY_3_FILENAME)"
   ]
  },
  {
   "cell_type": "markdown",
   "metadata": {},
   "source": [
    "### Query4"
   ]
  },
  {
   "cell_type": "code",
   "execution_count": 65,
   "metadata": {},
   "outputs": [],
   "source": [
    "QUERY_4_FILENAME = \"Query 4\""
   ]
  },
  {
   "cell_type": "code",
   "execution_count": 66,
   "metadata": {},
   "outputs": [
    {
     "name": "stdout",
     "output_type": "stream",
     "text": [
      "Empty DataFrame\n",
      "Columns: [zipcode, rent, trees_count, complaints_count]\n",
      "Index: []\n"
     ]
    }
   ],
   "source": [
    "QUERY_4 = \"\"\"\n",
    "(SELECT h_rent.zipcode, h_rent.rent, trees_count.trees_count, complaints_count.complaints_count \n",
    "FROM (\n",
    "    SELECT zipcode, rent \n",
    "    FROM rents\n",
    "    WHERE date = '2023-01-31'\n",
    "    ORDER BY rent DESC\n",
    "    LIMIT 5\n",
    ") AS h_rent\n",
    "JOIN  (\n",
    "    SELECT zipcode, COUNT(*) AS trees_count\n",
    "    FROM trees\n",
    "    GROUP BY zipcode\n",
    ") AS trees_count ON h_rent.zipcode = trees_count.zipcode\n",
    "JOIN (\n",
    "    SELECT zipcode, COUNT(*) AS complaints_count\n",
    "    FROM complaints\n",
    "    WHERE date BETWEEN '2023-12-04 00:00:00' AND '2023-12-07 23:59:59'\n",
    "    GROUP BY zipcode\n",
    ") AS complaints_count ON h_rent.zipcode = complaints_count.zipcode)\n",
    "UNION ALL\n",
    "(SELECT l_rent.zipcode, l_rent.rent, trees_count.trees_count, complaints_count.complaints_count \n",
    "FROM (\n",
    "    SELECT zipcode, rent \n",
    "    FROM rents\n",
    "    WHERE date = '2023-01-31'\n",
    "    ORDER BY rent ASC\n",
    "    LIMIT 5\n",
    ") AS l_rent\n",
    "JOIN  (\n",
    "    SELECT zipcode, COUNT(*) AS trees_count\n",
    "    FROM trees\n",
    "    GROUP BY zipcode\n",
    ") AS trees_count ON l_rent.zipcode = trees_count.zipcode\n",
    "JOIN (\n",
    "    SELECT zipcode, COUNT(*) AS complaints_count\n",
    "    FROM complaints\n",
    "    WHERE date BETWEEN '2023-12-04 00:00:00' AND '2023-12-07 23:59:59'\n",
    "    GROUP BY zipcode\n",
    ") AS complaints_count ON l_rent.zipcode = complaints_count.zipcode)\n",
    "\"\"\"\n",
    "\n",
    "df = pd.read_sql_query(QUERY_4, engine)\n",
    "# Display the DataFrame\n",
    "print(df)"
   ]
  },
  {
   "cell_type": "code",
   "execution_count": 67,
   "metadata": {},
   "outputs": [],
   "source": [
    "with engine.connect() as conn:\n",
    "    result = conn.execute(text(QUERY_4))\n",
    "    for row in result:\n",
    "        print(row)"
   ]
  },
  {
   "cell_type": "code",
   "execution_count": 68,
   "metadata": {},
   "outputs": [],
   "source": [
    "write_query_to_file(QUERY_4, QUERY_4_FILENAME)"
   ]
  },
  {
   "cell_type": "markdown",
   "metadata": {},
   "source": [
    "### Query5"
   ]
  },
  {
   "cell_type": "code",
   "execution_count": 69,
   "metadata": {},
   "outputs": [],
   "source": [
    "QUERY_5_FILENAME = \"Query 5\""
   ]
  },
  {
   "cell_type": "code",
   "execution_count": 70,
   "metadata": {},
   "outputs": [
    {
     "name": "stdout",
     "output_type": "stream",
     "text": [
      "  zipcode  trees_count\n",
      "0   10312        21356\n",
      "1   10314        16330\n",
      "2   10306        12616\n",
      "3   10309        12105\n",
      "4   11234        10838\n",
      "5   11385        10262\n",
      "6   11357         9016\n",
      "7   11207         8294\n",
      "8   11208         7897\n",
      "9   11434         7833\n"
     ]
    }
   ],
   "source": [
    "QUERY_5 = \"\"\"\n",
    "SELECT zipcodes.zipcode, COUNT(*) AS trees_count\n",
    "FROM trees\n",
    "JOIN zipcodes ON ST_Within(trees.location, zipcodes.location)\n",
    "GROUP BY zipcodes.zipcode\n",
    "ORDER BY trees_count DESC\n",
    "LIMIT 10\n",
    "\"\"\"\n",
    "\n",
    "# Execute the query and fetch the results into a pandas DataFrame\n",
    "df = pd.read_sql_query(QUERY_5, engine)\n",
    "\n",
    "# Display the DataFrame\n",
    "print(df)"
   ]
  },
  {
   "cell_type": "code",
   "execution_count": 71,
   "metadata": {},
   "outputs": [
    {
     "name": "stdout",
     "output_type": "stream",
     "text": [
      "('10312', 21356)\n",
      "('10314', 16330)\n",
      "('10306', 12616)\n",
      "('10309', 12105)\n",
      "('11234', 10838)\n",
      "('11385', 10262)\n",
      "('11357', 9016)\n",
      "('11207', 8294)\n",
      "('11208', 7897)\n",
      "('11434', 7833)\n"
     ]
    }
   ],
   "source": [
    "with engine.connect() as conn:\n",
    "    result = conn.execute(text(QUERY_5))\n",
    "    for row in result:\n",
    "        print(row)"
   ]
  },
  {
   "cell_type": "code",
   "execution_count": 72,
   "metadata": {},
   "outputs": [],
   "source": [
    "write_query_to_file(QUERY_5, QUERY_5_FILENAME)"
   ]
  },
  {
   "cell_type": "markdown",
   "metadata": {},
   "source": [
    "### Query6"
   ]
  },
  {
   "cell_type": "code",
   "execution_count": 73,
   "metadata": {},
   "outputs": [],
   "source": [
    "QUERY_6_FILENAME = \"Query 6\""
   ]
  },
  {
   "cell_type": "code",
   "execution_count": 74,
   "metadata": {},
   "outputs": [],
   "source": [
    "target_point = \"POINT(40.80737875669467 -73.96253174434912)\""
   ]
  },
  {
   "cell_type": "code",
   "execution_count": 75,
   "metadata": {},
   "outputs": [
    {
     "name": "stdout",
     "output_type": "stream",
     "text": [
      "          id           species health status                         location\n",
      "0     198514           pin oak   Good  Alive   POINT(-73.9620798 40.80230109)\n",
      "1     209919  London planetree   Good  Alive  POINT(-73.96331506 40.80881155)\n",
      "2     209921  London planetree   Good  Alive  POINT(-73.96340334 40.80874458)\n",
      "3     203887        willow oak   Good  Alive  POINT(-73.96071917 40.80572583)\n",
      "4     196440      American elm   Fair  Alive  POINT(-73.96412322 40.81114538)\n",
      "...      ...               ...    ...    ...                              ...\n",
      "2767  186783       scarlet oak   Good  Alive  POINT(-73.96550795 40.80376221)\n",
      "2768  203888  Japanese zelkova   Fair  Alive  POINT(-73.96115906 40.80590977)\n",
      "2769  203997  London planetree   Good  Alive  POINT(-73.96065411 40.80499024)\n",
      "2770  203998  London planetree   Good  Alive   POINT(-73.96055964 40.8049499)\n",
      "2771  187077            ginkgo   Good  Alive  POINT(-73.96002723 40.80075951)\n",
      "\n",
      "[2772 rows x 5 columns]\n"
     ]
    }
   ],
   "source": [
    "target_point = \"POINT(-73.96253174434912 40.80737875669467)\"\n",
    "QUERY_6 = f\"\"\"\n",
    "SELECT tree_id AS id, species, health, status, ST_AsText(location) AS location \n",
    "FROM trees \n",
    "WHERE ST_DWithin(ST_Transform(location, 4326)::geography, ST_GeomFromText('{target_point}', 4326)::geography, 804.672);\n",
    "\"\"\"\n",
    "\n",
    "# Execute the query and fetch the results into a pandas DataFrame\n",
    "df = pd.read_sql_query(QUERY_6, engine)\n",
    "\n",
    "# Display the DataFrame\n",
    "print(df)"
   ]
  },
  {
   "cell_type": "code",
   "execution_count": 76,
   "metadata": {},
   "outputs": [],
   "source": [
    "write_query_to_file(QUERY_6, QUERY_6_FILENAME)"
   ]
  },
  {
   "cell_type": "markdown",
   "metadata": {},
   "source": [
    "# Visualizing Data"
   ]
  },
  {
   "cell_type": "markdown",
   "metadata": {},
   "source": [
    "Visualization 1"
   ]
  },
  {
   "cell_type": "code",
   "execution_count": 77,
   "metadata": {},
   "outputs": [
    {
     "name": "stdout",
     "output_type": "stream",
     "text": [
      "Empty DataFrame\n",
      "Columns: [truncated_date, complaint_type, complaint_count]\n",
      "Index: []\n"
     ]
    }
   ],
   "source": [
    "query_visual_1 = \"\"\"\n",
    "WITH TopComplaintTypes AS (\n",
    "    SELECT complaint_type, COUNT(*) AS complaint_count\n",
    "    FROM complaints\n",
    "    WHERE date BETWEEN '2023-09-04 00:00:00' AND '2023-09-07 23:59:59'\n",
    "    GROUP BY complaint_type\n",
    "    ORDER BY complaint_count DESC\n",
    "    LIMIT 3\n",
    ")\n",
    "\n",
    "SELECT DATE_TRUNC('day', date::timestamp) AS truncated_date,\n",
    "       complaint_type,\n",
    "       COUNT(*) AS complaint_count\n",
    "FROM complaints\n",
    "WHERE complaint_type IN (SELECT complaint_type FROM TopComplaintTypes)\n",
    "      AND date BETWEEN '2023-11-04 00:00:00' AND '2023-12-07 23:59:59'\n",
    "GROUP BY truncated_date, complaint_type\n",
    "ORDER BY truncated_date, complaint_count DESC;\n",
    "\n",
    "\n",
    "\"\"\"\n",
    "\n",
    "# Execute the query using pandas\n",
    "df = pd.read_sql_query(query_visual_1, engine)\n",
    "print(df)"
   ]
  },
  {
   "cell_type": "code",
   "execution_count": 78,
   "metadata": {},
   "outputs": [
    {
     "data": {
      "text/plain": [
       "Series([], Name: complaint_type, dtype: object)"
      ]
     },
     "execution_count": 78,
     "metadata": {},
     "output_type": "execute_result"
    }
   ],
   "source": [
    "df_complaint_type = df.drop_duplicates(subset = 'complaint_type')[\"complaint_type\"]\n",
    "df_complaint_type"
   ]
  },
  {
   "cell_type": "code",
   "execution_count": 79,
   "metadata": {},
   "outputs": [
    {
     "data": {
      "image/png": "[encoded data removed]",
      "text/plain": [
       "<Figure size 1200x600 with 1 Axes>"
      ]
     },
     "metadata": {},
     "output_type": "display_data"
    }
   ],
   "source": [
    "import matplotlib.pyplot as plt\n",
    "import seaborn as sns\n",
    "\n",
    "# Convert 'truncated_date' to datetime for proper plotting\n",
    "df['truncated_date'] = pd.to_datetime(df['truncated_date'])\n",
    "\n",
    "# Set the style of seaborn for better aesthetics\n",
    "sns.set(style=\"whitegrid\")\n",
    "\n",
    "# Create a line plot\n",
    "plt.figure(figsize=(12, 6))\n",
    "sns.lineplot(x='truncated_date', y='complaint_count', hue='complaint_type', data=df, marker='o')\n",
    "plt.title('Number of Complaints per Day for Top Complaint Types')\n",
    "plt.xlabel('Date')\n",
    "plt.ylabel('Complaint Count')\n",
    "plt.xticks(rotation=45)\n",
    "plt.tight_layout()\n",
    "\n",
    "# Display the plot\n",
    "plt.show()"
   ]
  },
  {
   "cell_type": "markdown",
   "metadata": {},
   "source": [
    "Visualization 2"
   ]
  },
  {
   "cell_type": "code",
   "execution_count": 80,
   "metadata": {},
   "outputs": [
    {
     "name": "stdout",
     "output_type": "stream",
     "text": [
      "Empty DataFrame\n",
      "Columns: [complaint_type, complaints_count]\n",
      "Index: []\n"
     ]
    }
   ],
   "source": [
    "query_visual_2 = \"\"\"\n",
    "SELECT complaint_type, COUNT(*) AS complaints_count\n",
    "FROM complaints\n",
    "WHERE date BETWEEN '2023-09-04 00:00:00' AND '2023-09-07 00:00:00' AND zipcode = '10027'\n",
    "GROUP BY complaint_type\n",
    "ORDER BY complaints_count DESC\n",
    "LIMIT 10\n",
    "\"\"\"\n",
    "df = pd.read_sql_query(query_visual_2, engine)\n",
    "print(df)"
   ]
  },
  {
   "cell_type": "code",
   "execution_count": 81,
   "metadata": {},
   "outputs": [
    {
     "data": {
      "image/png": "[encoded data removed]",
      "text/plain": [
       "<Figure size 1000x600 with 1 Axes>"
      ]
     },
     "metadata": {},
     "output_type": "display_data"
    }
   ],
   "source": [
    "plt.figure(figsize=(10, 6))\n",
    "plt.bar(df['complaint_type'], df['complaints_count'], color = \"blue\")\n",
    "plt.xlabel('Complaint Type')\n",
    "plt.ylabel('Count')\n",
    "plt.xticks(rotation=45)\n",
    "plt.show()"
   ]
  },
  {
   "cell_type": "markdown",
   "metadata": {},
   "source": [
    "Visualization 3"
   ]
  },
  {
   "cell_type": "code",
   "execution_count": 82,
   "metadata": {},
   "outputs": [
    {
     "name": "stdout",
     "output_type": "stream",
     "text": [
      "    zipcode  average_rent  trees_count\n",
      "0     10282   7029.339152         5520\n",
      "1     10007   6484.824436        27378\n",
      "2     10013   4819.141683       118860\n",
      "3     10069   4615.526230         6160\n",
      "4     10001   4094.657754        89250\n",
      "..      ...           ...          ...\n",
      "138   11214   1808.879065       236550\n",
      "139   10458   1701.725740       285868\n",
      "140   10312   1666.821937       491188\n",
      "141   10462   1640.212801       331936\n",
      "142   10309   1626.081921       121050\n",
      "\n",
      "[143 rows x 3 columns]\n"
     ]
    }
   ],
   "source": [
    "query_visual_3_tree = \"\"\"\n",
    "SELECT rents.zipcode AS zipcode, AVG(rents.rent) AS average_rent, COUNT(*) AS trees_count\n",
    "FROM rents\n",
    "JOIN trees ON rents.zipcode =  trees.zipcode\n",
    "WHERE rents.date BETWEEN '2015-01-01' AND '2023-12-30'\n",
    "GROUP BY rents.zipcode\n",
    "ORDER BY average_rent DESC\n",
    "\"\"\"\n",
    "df_3_tree = pd.read_sql_query(query_visual_3_tree, engine)\n",
    "print(df_3_tree)"
   ]
  },
  {
   "cell_type": "code",
   "execution_count": 83,
   "metadata": {},
   "outputs": [
    {
     "name": "stdout",
     "output_type": "stream",
     "text": [
      "    zipcode  average_rent  complaints_count\n",
      "0     10282   7029.339152             13968\n",
      "1     10007   6484.824436            257256\n",
      "2     10162   4968.739502               140\n",
      "3     10013   4819.141683            988995\n",
      "4     10069   4615.526230             26125\n",
      "..      ...           ...               ...\n",
      "140   11214   1808.879065           1118910\n",
      "141   10458   1701.725740           2672225\n",
      "142   10312   1666.821937            285338\n",
      "143   10462   1640.212801           1758326\n",
      "144   10309   1626.081921             74040\n",
      "\n",
      "[145 rows x 3 columns]\n"
     ]
    }
   ],
   "source": [
    "query_visual_3_complaints = \"\"\"\n",
    "SELECT rents.zipcode AS zipcode, AVG(rents.rent) AS average_rent, COUNT(*) as complaints_count\n",
    "FROM rents\n",
    "JOIN complaints ON rents.zipcode = complaints.zipcode\n",
    "WHERE complaints.date BETWEEN '2015-01-01' AND '2023-12-30' AND rents.date BETWEEN '2015-01-01' AND '2023-12-30'\n",
    "GROUP BY rents.zipcode\n",
    "ORDER BY average_rent DESC\n",
    "\"\"\"\n",
    "df_3_complaints = pd.read_sql_query(query_visual_3_complaints, engine)\n",
    "print(df_3_complaints)"
   ]
  },
  {
   "cell_type": "code",
   "execution_count": 84,
   "metadata": {},
   "outputs": [
    {
     "data": {
      "image/png": "[encoded data removed]",
      "text/plain": [
       "<Figure size 1400x1000 with 2 Axes>"
      ]
     },
     "metadata": {},
     "output_type": "display_data"
    }
   ],
   "source": [
    "fig, (ax1, ax2) = plt.subplots(2, 1, figsize=(14, 10), sharex=True)\n",
    "ax1.scatter(df_3_tree['average_rent'], df_3_tree['trees_count'], color='blue')\n",
    "ax1.set_ylabel('Number of Trees by Zipcode')\n",
    "ax1.set_title('Rent VS Number of Trees by Zipcode')\n",
    "ax1.grid(True)\n",
    "ax2.scatter(df_3_complaints['average_rent'], df_3_complaints['complaints_count'], color='red')\n",
    "ax2.set_ylabel('Number of Complaints by Zipcode')\n",
    "ax2.set_xlabel('Average Rent')\n",
    "ax2.set_title('Rent VS Number of Complaints by Zipcode')\n",
    "ax2.grid(True)\n",
    "plt.show()\n"
   ]
  },
  {
   "cell_type": "markdown",
   "metadata": {},
   "source": [
    "Visualization 4"
   ]
  },
  {
   "cell_type": "code",
   "execution_count": 85,
   "metadata": {},
   "outputs": [
    {
     "name": "stdout",
     "output_type": "stream",
     "text": [
      "Empty DataFrame\n",
      "Columns: [rent_bin, zipcode, num_complaints]\n",
      "Index: []\n"
     ]
    }
   ],
   "source": [
    "query_visual_4 = \"\"\"\n",
    "SELECT\n",
    "  FLOOR(rents.rent / 1000) * 1000 AS rent_bin,\n",
    "  complaints.zipcode,\n",
    "  COUNT(DISTINCT complaints.id) AS num_complaints\n",
    "FROM\n",
    "  rents\n",
    "JOIN\n",
    "  complaints ON rents.zipcode = complaints.zipcode\n",
    "WHERE\n",
    "  complaints.date BETWEEN '2023-12-01' AND '2023-12-06'\n",
    "GROUP BY\n",
    "  rent_bin, complaints.zipcode\n",
    "ORDER BY\n",
    "  rent_bin, complaints.zipcode;\n",
    "\"\"\"\n",
    "\n",
    "visual_4= pd.read_sql_query(query_visual_4, engine)\n",
    "print(visual_4)"
   ]
  },
  {
   "cell_type": "code",
   "execution_count": 86,
   "metadata": {},
   "outputs": [
    {
     "ename": "ValueError",
     "evalue": "min() arg is an empty sequence",
     "output_type": "error",
     "traceback": [
      "\u001b[0;31m---------------------------------------------------------------------------\u001b[0m",
      "\u001b[0;31mValueError\u001b[0m                                Traceback (most recent call last)",
      "\u001b[1;32m/Users/ycz/Documents/GitHub/4501-Final-Project/Project.ipynb Cell 105\u001b[0m line \u001b[0;36m7\n\u001b[1;32m      <a href='vscode-notebook-cell:/Users/ycz/Documents/GitHub/4501-Final-Project/Project.ipynb#Y206sZmlsZQ%3D%3D?line=4'>5</a>\u001b[0m \u001b[39m# Create a boxplot using Seaborn\u001b[39;00m\n\u001b[1;32m      <a href='vscode-notebook-cell:/Users/ycz/Documents/GitHub/4501-Final-Project/Project.ipynb#Y206sZmlsZQ%3D%3D?line=5'>6</a>\u001b[0m plt\u001b[39m.\u001b[39mfigure(figsize\u001b[39m=\u001b[39m(\u001b[39m10\u001b[39m, \u001b[39m6\u001b[39m))\n\u001b[0;32m----> <a href='vscode-notebook-cell:/Users/ycz/Documents/GitHub/4501-Final-Project/Project.ipynb#Y206sZmlsZQ%3D%3D?line=6'>7</a>\u001b[0m sns\u001b[39m.\u001b[39mboxplot(x\u001b[39m=\u001b[39m\u001b[39m'\u001b[39m\u001b[39mrent_bin\u001b[39m\u001b[39m'\u001b[39m, y\u001b[39m=\u001b[39m\u001b[39m'\u001b[39m\u001b[39mnum_complaints\u001b[39m\u001b[39m'\u001b[39m, data\u001b[39m=\u001b[39mvisual_4)\n\u001b[1;32m      <a href='vscode-notebook-cell:/Users/ycz/Documents/GitHub/4501-Final-Project/Project.ipynb#Y206sZmlsZQ%3D%3D?line=8'>9</a>\u001b[0m \u001b[39m# Set labels and title\u001b[39;00m\n\u001b[1;32m     <a href='vscode-notebook-cell:/Users/ycz/Documents/GitHub/4501-Final-Project/Project.ipynb#Y206sZmlsZQ%3D%3D?line=9'>10</a>\u001b[0m plt\u001b[39m.\u001b[39mxlabel(\u001b[39m'\u001b[39m\u001b[39mAverage Rent ($1000 bins)\u001b[39m\u001b[39m'\u001b[39m)\n",
      "File \u001b[0;32m~/anaconda3/lib/python3.11/site-packages/seaborn/categorical.py:2231\u001b[0m, in \u001b[0;36mboxplot\u001b[0;34m(data, x, y, hue, order, hue_order, orient, color, palette, saturation, width, dodge, fliersize, linewidth, whis, ax, **kwargs)\u001b[0m\n\u001b[1;32m   2224\u001b[0m \u001b[39mdef\u001b[39;00m \u001b[39mboxplot\u001b[39m(\n\u001b[1;32m   2225\u001b[0m     data\u001b[39m=\u001b[39m\u001b[39mNone\u001b[39;00m, \u001b[39m*\u001b[39m, x\u001b[39m=\u001b[39m\u001b[39mNone\u001b[39;00m, y\u001b[39m=\u001b[39m\u001b[39mNone\u001b[39;00m, hue\u001b[39m=\u001b[39m\u001b[39mNone\u001b[39;00m, order\u001b[39m=\u001b[39m\u001b[39mNone\u001b[39;00m, hue_order\u001b[39m=\u001b[39m\u001b[39mNone\u001b[39;00m,\n\u001b[1;32m   2226\u001b[0m     orient\u001b[39m=\u001b[39m\u001b[39mNone\u001b[39;00m, color\u001b[39m=\u001b[39m\u001b[39mNone\u001b[39;00m, palette\u001b[39m=\u001b[39m\u001b[39mNone\u001b[39;00m, saturation\u001b[39m=\u001b[39m\u001b[39m.75\u001b[39m, width\u001b[39m=\u001b[39m\u001b[39m.8\u001b[39m,\n\u001b[1;32m   2227\u001b[0m     dodge\u001b[39m=\u001b[39m\u001b[39mTrue\u001b[39;00m, fliersize\u001b[39m=\u001b[39m\u001b[39m5\u001b[39m, linewidth\u001b[39m=\u001b[39m\u001b[39mNone\u001b[39;00m, whis\u001b[39m=\u001b[39m\u001b[39m1.5\u001b[39m, ax\u001b[39m=\u001b[39m\u001b[39mNone\u001b[39;00m,\n\u001b[1;32m   2228\u001b[0m     \u001b[39m*\u001b[39m\u001b[39m*\u001b[39mkwargs\n\u001b[1;32m   2229\u001b[0m ):\n\u001b[0;32m-> 2231\u001b[0m     plotter \u001b[39m=\u001b[39m _BoxPlotter(x, y, hue, data, order, hue_order,\n\u001b[1;32m   2232\u001b[0m                           orient, color, palette, saturation,\n\u001b[1;32m   2233\u001b[0m                           width, dodge, fliersize, linewidth)\n\u001b[1;32m   2235\u001b[0m     \u001b[39mif\u001b[39;00m ax \u001b[39mis\u001b[39;00m \u001b[39mNone\u001b[39;00m:\n\u001b[1;32m   2236\u001b[0m         ax \u001b[39m=\u001b[39m plt\u001b[39m.\u001b[39mgca()\n",
      "File \u001b[0;32m~/anaconda3/lib/python3.11/site-packages/seaborn/categorical.py:786\u001b[0m, in \u001b[0;36m_BoxPlotter.__init__\u001b[0;34m(self, x, y, hue, data, order, hue_order, orient, color, palette, saturation, width, dodge, fliersize, linewidth)\u001b[0m\n\u001b[1;32m    781\u001b[0m \u001b[39mdef\u001b[39;00m \u001b[39m__init__\u001b[39m(\u001b[39mself\u001b[39m, x, y, hue, data, order, hue_order,\n\u001b[1;32m    782\u001b[0m              orient, color, palette, saturation,\n\u001b[1;32m    783\u001b[0m              width, dodge, fliersize, linewidth):\n\u001b[1;32m    785\u001b[0m     \u001b[39mself\u001b[39m\u001b[39m.\u001b[39mestablish_variables(x, y, hue, data, orient, order, hue_order)\n\u001b[0;32m--> 786\u001b[0m     \u001b[39mself\u001b[39m\u001b[39m.\u001b[39mestablish_colors(color, palette, saturation)\n\u001b[1;32m    788\u001b[0m     \u001b[39mself\u001b[39m\u001b[39m.\u001b[39mdodge \u001b[39m=\u001b[39m dodge\n\u001b[1;32m    789\u001b[0m     \u001b[39mself\u001b[39m\u001b[39m.\u001b[39mwidth \u001b[39m=\u001b[39m width\n",
      "File \u001b[0;32m~/anaconda3/lib/python3.11/site-packages/seaborn/categorical.py:707\u001b[0m, in \u001b[0;36m_CategoricalPlotter.establish_colors\u001b[0;34m(self, color, palette, saturation)\u001b[0m\n\u001b[1;32m    705\u001b[0m \u001b[39m# Determine the gray color to use for the lines framing the plot\u001b[39;00m\n\u001b[1;32m    706\u001b[0m light_vals \u001b[39m=\u001b[39m [rgb_to_hls(\u001b[39m*\u001b[39mc)[\u001b[39m1\u001b[39m] \u001b[39mfor\u001b[39;00m c \u001b[39min\u001b[39;00m rgb_colors]\n\u001b[0;32m--> 707\u001b[0m lum \u001b[39m=\u001b[39m \u001b[39mmin\u001b[39m(light_vals) \u001b[39m*\u001b[39m \u001b[39m.6\u001b[39m\n\u001b[1;32m    708\u001b[0m gray \u001b[39m=\u001b[39m mpl\u001b[39m.\u001b[39mcolors\u001b[39m.\u001b[39mrgb2hex((lum, lum, lum))\n\u001b[1;32m    710\u001b[0m \u001b[39m# Assign object attributes\u001b[39;00m\n",
      "\u001b[0;31mValueError\u001b[0m: min() arg is an empty sequence"
     ]
    },
    {
     "data": {
      "text/plain": [
       "<Figure size 1000x600 with 0 Axes>"
      ]
     },
     "metadata": {},
     "output_type": "display_data"
    }
   ],
   "source": [
    "import pandas as pd\n",
    "import seaborn as sns\n",
    "import matplotlib.pyplot as plt\n",
    "visual_4['rent_bin'] = pd.Categorical(visual_4['rent_bin'])\n",
    "# Create a boxplot using Seaborn\n",
    "plt.figure(figsize=(10, 6))\n",
    "sns.boxplot(x='rent_bin', y='num_complaints', data=visual_4)\n",
    "\n",
    "# Set labels and title\n",
    "plt.xlabel('Average Rent ($1000 bins)')\n",
    "plt.ylabel('Number of 311 Complaints')\n",
    "plt.title('Boxplot of 311 Complaints by Average Rent in December 2023')\n",
    "\n",
    "# Show the plot\n",
    "plt.show()"
   ]
  },
  {
   "cell_type": "markdown",
   "metadata": {},
   "source": [
    "Visualization 5"
   ]
  },
  {
   "cell_type": "code",
   "execution_count": 87,
   "metadata": {},
   "outputs": [
    {
     "name": "stdout",
     "output_type": "stream",
     "text": [
      "                                           location\n",
      "0       POINT(-73.95260757339591 40.81166480566812)\n",
      "1      POINT(-73.95302702883166 40.805972420859355)\n",
      "2      POINT(-73.95302702883166 40.805972420859355)\n",
      "3       POINT(-73.95548445294015 40.80427990061059)\n",
      "4       POINT(-73.95529594898062 40.80528439709217)\n",
      "...                                             ...\n",
      "23541   POINT(-73.95642084980501 40.80296279006334)\n",
      "23542  POINT(-73.95283188286473 40.806095853791454)\n",
      "23543  POINT(-73.95934872471949 40.799475312083196)\n",
      "23544   POINT(-73.95642084980501 40.80296279006334)\n",
      "23545   POINT(-73.95369206196123 40.80541276604917)\n",
      "\n",
      "[23546 rows x 1 columns]\n"
     ]
    }
   ],
   "source": [
    "target_point = \"POINT(-73.96253174434912 40.80737875669467)\"\n",
    "query_visual_5 = f\"\"\"\n",
    "SELECT ST_AsText(location) AS location\n",
    "FROM complaints \n",
    "WHERE ST_DWithin(location::geography, ST_GeomFromText('{target_point}')::geography, 1000) AND date BETWEEN '2023-01-01' AND '2023-12-31'\n",
    "\"\"\"\n",
    "df_5 = pd.read_sql_query(query_visual_5, engine)\n",
    "print(df_5)"
   ]
  },
  {
   "cell_type": "code",
   "execution_count": 88,
   "metadata": {},
   "outputs": [
    {
     "data": {
      "image/png": "[encoded data removed]",
      "text/plain": [
       "<Figure size 1000x1000 with 1 Axes>"
      ]
     },
     "metadata": {},
     "output_type": "display_data"
    }
   ],
   "source": [
    "from shapely import wkt\n",
    "\n",
    "df_5['geometry'] = df_5['location'].apply(wkt.loads)\n",
    "\n",
    "# Create  GeoDataFrame\n",
    "gdf = gpd.GeoDataFrame(df_5, geometry='geometry')\n",
    "\n",
    "# Plot the data\n",
    "fig, ax = plt.subplots(figsize=(10, 10))\n",
    "gdf.plot(ax=ax, color='blue', markersize=5)\n",
    "\n",
    "# Plot the target point\n",
    "target_point_geom = wkt.loads(target_point)\n",
    "target_gdf = gpd.GeoSeries([target_point_geom], crs=\"EPSG:4326\")\n",
    "target_gdf.plot(ax=ax, color='red', markersize=100, marker='*')  # Changed marker style for visibility\n",
    "\n",
    "# Set axis labels and title\n",
    "ax.set_xlabel('Longitude')\n",
    "ax.set_ylabel('Latitude')\n",
    "plt.title('Reported 311 Incidents from Jan 1, 2023 to Sep 30, 2023 within 1km of Point')\n",
    "\n",
    "# Show the plot\n",
    "plt.show()"
   ]
  },
  {
   "cell_type": "markdown",
   "metadata": {},
   "source": [
    "Visualization 6"
   ]
  },
  {
   "cell_type": "code",
   "execution_count": 89,
   "metadata": {},
   "outputs": [
    {
     "name": "stdout",
     "output_type": "stream",
     "text": [
      "                                    request_location\n",
      "0      POINT (-73.86121923025509 40.851123167367014)\n",
      "1       POINT (-73.99100425747874 40.76272738277269)\n",
      "2       POINT (-73.95390843511196 40.64421877479377)\n",
      "3      POINT (-73.80776061338688 40.720328269590894)\n",
      "4      POINT (-73.97741559312212 40.638497426185786)\n",
      "...                                              ...\n",
      "18618   POINT (-73.86479895306637 40.88608938553802)\n",
      "18619  POINT (-73.86301112605423 40.883186139707405)\n",
      "18620  POINT (-73.87826315023251 40.704510258029565)\n",
      "18621  POINT (-73.87831342347583 40.704631080952076)\n",
      "18622   POINT (-73.87843908235571 40.70494686196376)\n",
      "\n",
      "[18623 rows x 1 columns]\n"
     ]
    }
   ],
   "source": [
    "query_visual_6_request = \"\"\"\n",
    "SELECT ST_AsText(location) AS request_location\n",
    "FROM complaints \n",
    "WHERE complaint_type = 'New Tree Request'\n",
    "\"\"\"\n",
    "df_6_request = pd.read_sql_query(query_visual_6_request, engine)\n",
    "df_6_request['request_location'] = df_6_request['request_location'].apply(wkt.loads)\n",
    "print(df_6_request)"
   ]
  },
  {
   "cell_type": "code",
   "execution_count": 90,
   "metadata": {},
   "outputs": [
    {
     "name": "stdout",
     "output_type": "stream",
     "text": [
      "                           tree_location\n",
      "0       POINT (-73.84421522 40.72309177)\n",
      "1       POINT (-73.81867946 40.79411067)\n",
      "2        POINT (-73.9366077 40.71758074)\n",
      "3       POINT (-73.93445616 40.71353749)\n",
      "4       POINT (-73.97597938 40.66677776)\n",
      "...                                  ...\n",
      "652162  POINT (-73.94373349 40.57860297)\n",
      "652163  POINT (-73.96830596 40.69520351)\n",
      "652164  POINT (-73.98396002 40.73927037)\n",
      "652165   POINT (-73.85717727 40.7167409)\n",
      "652166  POINT (-74.00489247 40.73991341)\n",
      "\n",
      "[652167 rows x 1 columns]\n"
     ]
    }
   ],
   "source": [
    "query_visual_6_tree = \"\"\"\n",
    "SELECT ST_AsText(location) AS tree_location\n",
    "FROM trees \n",
    "\"\"\"\n",
    "df_6_tree = pd.read_sql_query(query_visual_6_tree, engine)\n",
    "df_6_tree['tree_location'] = df_6_tree['tree_location'].apply(wkt.loads)\n",
    "print(df_6_tree)"
   ]
  },
  {
   "cell_type": "code",
   "execution_count": 91,
   "metadata": {},
   "outputs": [
    {
     "data": {
      "image/png": "[encoded data removed]",
      "text/plain": [
       "<Figure size 1000x1000 with 1 Axes>"
      ]
     },
     "metadata": {},
     "output_type": "display_data"
    }
   ],
   "source": [
    "# Create  GeoDataFrame\n",
    "gdf_tree = gpd.GeoDataFrame(df_6_tree, geometry='tree_location')\n",
    "gdf_request = gpd.GeoDataFrame(df_6_request, geometry='request_location')\n",
    "\n",
    "# Plot the data\n",
    "fig, ax = plt.subplots(figsize=(10, 10))\n",
    "gdf_tree.plot(ax=ax, color='green', markersize=5)\n",
    "gdf_request.plot(ax=ax, color='red', markersize=5)\n",
    "\n",
    "# Set axis labels and title\n",
    "ax.set_xlabel('Longitude')\n",
    "ax.set_ylabel('Latitude')\n",
    "plt.title('')\n",
    "\n",
    "# Show the plot\n",
    "plt.show()"
   ]
  },
  {
   "cell_type": "code",
   "execution_count": null,
   "metadata": {},
   "outputs": [],
   "source": []
  }
 ],
 "metadata": {
  "kernelspec": {
   "display_name": "Python 3",
   "language": "python",
   "name": "python3"
  },
  "language_info": {
   "codemirror_mode": {
    "name": "ipython",
    "version": 3
   },
   "file_extension": ".py",
   "mimetype": "text/x-python",
   "name": "python",
   "nbconvert_exporter": "python",
   "pygments_lexer": "ipython3",
   "version": "3.11.3"
  }
 },
 "nbformat": 4,
 "nbformat_minor": 2
}
